{
 "cells": [
  {
   "cell_type": "code",
   "execution_count": 2,
   "id": "7a3cb180-e811-4fb5-9862-e4243e32823e",
   "metadata": {},
   "outputs": [
    {
     "name": "stdin",
     "output_type": "stream",
     "text": [
      "Enter a number:  -67\n"
     ]
    },
    {
     "name": "stdout",
     "output_type": "stream",
     "text": [
      "The number is negative.\n"
     ]
    }
   ],
   "source": [
    "#Basic If-Else Statements:\n",
    "#1. Write a Python program to check if a given number is positive or negative.\n",
    "\n",
    "def main():\n",
    "\n",
    "    number = float(input(\"Enter a number: \"))\n",
    "\n",
    "    if number > 0:\n",
    "        print(\"The number is positive.\")\n",
    "    elif number < 0:\n",
    "        print(\"The number is negative.\")\n",
    "    else:\n",
    "        print(\"The number is zero.\")\n",
    "\n",
    "    \n",
    "    \n",
    "if __name__ == \"__main__\":\n",
    "    main()\n",
    "\n"
   ]
  },
  {
   "cell_type": "code",
   "execution_count": 2,
   "id": "0101a435-dea7-4564-8808-989a61d7bae2",
   "metadata": {},
   "outputs": [
    {
     "name": "stdin",
     "output_type": "stream",
     "text": [
      "Enter the age :  17\n"
     ]
    },
    {
     "name": "stdout",
     "output_type": "stream",
     "text": [
      "You are not Eligible for voting..\n"
     ]
    }
   ],
   "source": [
    "#Basic If-Else Statements:\n",
    "#2. Create a program that determines if a person is eligible to vote based on their age.\n",
    "\n",
    "def main():\n",
    "    \n",
    "    age = int(input(\"Enter the age : \"))\n",
    "    \n",
    "    if age >= 18:\n",
    "        print(\"You are Eligible for voting..\")\n",
    "        \n",
    "    else:\n",
    "        print(\"You are not Eligible for voting..\")\n",
    "        \n",
    "if __name__ == \"__main__\":\n",
    "    main()\n",
    "    "
   ]
  },
  {
   "cell_type": "code",
   "execution_count": 4,
   "id": "03245bc8-0615-442e-b9b5-e03afca57cd6",
   "metadata": {},
   "outputs": [
    {
     "name": "stdin",
     "output_type": "stream",
     "text": [
      "Enter the 1st Number :  12\n",
      "Enter the 2nd Number :  1\n"
     ]
    },
    {
     "name": "stdout",
     "output_type": "stream",
     "text": [
      "12 is greater than 1\n"
     ]
    }
   ],
   "source": [
    "#Basic If-Else Statements:\n",
    "#3. Develop a program to find the maximum of two numbers using if-else statements.\n",
    "\n",
    "def main():\n",
    "    num1 = int(input(\"Enter the 1st Number : \"))\n",
    "    num2 = int(input(\"Enter the 2nd Number : \"))\n",
    "    \n",
    "    if num1 > num2:\n",
    "        print(f\"{num1} is greater than {num2}\")\n",
    "    elif num1 < num2:\n",
    "        print(f\"{num2} is greater than {num1}\")\n",
    "    else:\n",
    "        print(f\"{num1} is Equals to {num2}\")\n",
    "        \n",
    "if __name__ == \"__main__\":\n",
    "    main()        \n",
    "\n"
   ]
  },
  {
   "cell_type": "code",
   "execution_count": 15,
   "id": "3ab16770-60e8-42c6-ad9b-16429a50c250",
   "metadata": {},
   "outputs": [
    {
     "name": "stdin",
     "output_type": "stream",
     "text": [
      "Enter a year:  2032\n"
     ]
    },
    {
     "name": "stdout",
     "output_type": "stream",
     "text": [
      "2032 is a leap year.\n"
     ]
    }
   ],
   "source": [
    "#Basic If-Else Statements:\n",
    "#4. Write a Python script to classify a given year as a leap year or not.\n",
    "\n",
    "def is_leap_year(year):\n",
    "    if year % 4 == 0 and year % 100 != 0:\n",
    "        return True\n",
    "    else:\n",
    "        return False\n",
    "\n",
    "def main():\n",
    "    year = int(input(\"Enter a year: \"))\n",
    "\n",
    "    if is_leap_year(year):\n",
    "        print(f\"{year} is a leap year.\")\n",
    "    else:\n",
    "        print(f\"{year} is not a leap year.\")\n",
    "\n",
    "if __name__ == \"__main__\":\n",
    "    main()       \n",
    "    "
   ]
  },
  {
   "cell_type": "code",
   "execution_count": 4,
   "id": "2199a63a-0ac4-4344-bc30-864e535631ad",
   "metadata": {},
   "outputs": [
    {
     "name": "stdin",
     "output_type": "stream",
     "text": [
      "Enter the Character :  sahat\n"
     ]
    },
    {
     "name": "stdout",
     "output_type": "stream",
     "text": [
      "s is a Consonant..\n"
     ]
    }
   ],
   "source": [
    "#Basic If-Else Statements:\n",
    "#5. Create a program that checks whether a character is a vowel or a consonant.\n",
    "\n",
    "def main():\n",
    "    character = input(\"Enter the Character : \")[0]\n",
    "    vowels = \"AaEeIiOoUu\"\n",
    "    \n",
    "    if character in vowels:\n",
    "        print(f\"{character} is a Vowel..\")\n",
    "    else: \n",
    "        print(f\"{character} is a Consonant..\")\n",
    "        \n",
    "if __name__ == \"__main__\":\n",
    "    main()  \n",
    "    "
   ]
  },
  {
   "cell_type": "code",
   "execution_count": 16,
   "id": "15422611-55be-4211-863d-a7e771c42a47",
   "metadata": {},
   "outputs": [
    {
     "name": "stdin",
     "output_type": "stream",
     "text": [
      "Enter the Number :  5\n"
     ]
    },
    {
     "name": "stdout",
     "output_type": "stream",
     "text": [
      "5 is Odd Number\n"
     ]
    }
   ],
   "source": [
    "#Basic If-Else Statements:\n",
    "#6. Implement a program to determine whether a given number is even or odd.\n",
    "\n",
    "def main():\n",
    "    num = int(input(\"Enter the Number : \"))\n",
    "    \n",
    "    if num%2==0:\n",
    "        print(f\"{num} is Even Number\")\n",
    "    else:\n",
    "        print(f\"{num} is Odd Number\")\n",
    "    \n",
    "if __name__ == \"__main__\":\n",
    "    main() \n",
    "    "
   ]
  },
  {
   "cell_type": "code",
   "execution_count": 18,
   "id": "4229e7f3-a44b-402b-9328-974081cc11be",
   "metadata": {},
   "outputs": [
    {
     "name": "stdin",
     "output_type": "stream",
     "text": [
      "Enter the Number :  -3\n"
     ]
    },
    {
     "name": "stdout",
     "output_type": "stream",
     "text": [
      "Absolute value :  3\n"
     ]
    }
   ],
   "source": [
    "#Basic If-Else Statements:\n",
    "#7. Write a Python function to calculate the absolute value of a number without using the `abs()` function.\n",
    "\n",
    "def absolute(num):\n",
    "    if num<0:\n",
    "        return -num\n",
    "    else:\n",
    "        return num\n",
    "\n",
    "def main():\n",
    "    num = int(input(\"Enter the Number : \"))\n",
    "    \n",
    "    print(\"Absolute value : \",absolute(num))\n",
    "    \n",
    "if __name__ == \"__main__\":\n",
    "    main() \n",
    "    "
   ]
  },
  {
   "cell_type": "code",
   "execution_count": 2,
   "id": "00e23596-972a-4b22-afed-96815244a4ce",
   "metadata": {},
   "outputs": [
    {
     "name": "stdin",
     "output_type": "stream",
     "text": [
      "Enter the 1st Number :  3\n",
      "Enter the 2nd Number :  4\n",
      "Enter the 3rd Number :  3\n"
     ]
    },
    {
     "name": "stdout",
     "output_type": "stream",
     "text": [
      "The largest number is: 4\n"
     ]
    }
   ],
   "source": [
    "#Basic If-Else Statements:\n",
    "#8. Develop a program that determines the largest of three given numbers using if-else statements.\n",
    "\n",
    "def main():\n",
    "    num1 = int(input(\"Enter the 1st Number : \"))\n",
    "    num2 = int(input(\"Enter the 2nd Number : \"))\n",
    "    num3 = int(input(\"Enter the 3rd Number : \"))\n",
    "    \n",
    "    if num1 >= num2 and num1 >= num3:\n",
    "        largest = num1\n",
    "    elif num2 >= num1 and num2 >= num3:\n",
    "        largest = num2\n",
    "    else:\n",
    "        largest = num3\n",
    "        \n",
    "    print(\"The largest number is:\", largest)    \n",
    "    \n",
    "    \n",
    "if __name__ == \"__main__\":\n",
    "    main() \n",
    "\n"
   ]
  },
  {
   "cell_type": "code",
   "execution_count": 2,
   "id": "707f4176-2047-4237-814b-7bc3f064d8c8",
   "metadata": {},
   "outputs": [
    {
     "name": "stdin",
     "output_type": "stream",
     "text": [
      "Enter the String :  Racecar\n"
     ]
    },
    {
     "name": "stdout",
     "output_type": "stream",
     "text": [
      "String is palindrome\n"
     ]
    }
   ],
   "source": [
    "#Basic If-Else Statements:\n",
    "#9. Create a program that checks if a given string is a palindrome.\n",
    "\n",
    "def main():\n",
    "    string = input(\"Enter the String : \")\n",
    "    \n",
    "    if string.lower() == string[::-1].lower():\n",
    "        print(\"String is palindrome\")\n",
    "        \n",
    "    else:\n",
    "        print(\"String is not palindrome\")\n",
    "        \n",
    "if __name__ == \"__main__\":\n",
    "    main() \n",
    "      \n",
    "        \n",
    "        "
   ]
  },
  {
   "cell_type": "code",
   "execution_count": 64,
   "id": "0c578ab6-a414-4695-ae99-a135ba943d41",
   "metadata": {},
   "outputs": [
    {
     "name": "stdin",
     "output_type": "stream",
     "text": [
      "Enter your score :  78\n"
     ]
    },
    {
     "name": "stdout",
     "output_type": "stream",
     "text": [
      "Passed with grade 'C' \n"
     ]
    }
   ],
   "source": [
    "#Basic If-Else Statements:\n",
    "#10. Write a Python program to calculate the grade based on a student's score.\n",
    "\n",
    "def main():\n",
    "    score = int(input(\"Enter your score : \"))\n",
    "    if score >=35:\n",
    "        if score >= 90:\n",
    "            print(\"Passed with grade 'A' \") \n",
    "        elif score >= 80:\n",
    "             print(\"Passed with grade 'B' \") \n",
    "        elif score >= 70:\n",
    "             print(\"Passed with grade 'C' \") \n",
    "        elif score >= 60:\n",
    "             print(\"Passed with grade 'D' \") \n",
    "        elif score >= 35:\n",
    "             print(\"Passed with grade 'F' \")\n",
    "    else:        \n",
    "         print(\"Failed, Better luck next time..\")   \n",
    "if __name__ == \"__main__\":\n",
    "    main() \n",
    "               \n",
    "            \n",
    "            \n",
    "    "
   ]
  },
  {
   "cell_type": "code",
   "execution_count": 3,
   "id": "28217777-0ae8-4949-a5a5-9166d7a84a27",
   "metadata": {},
   "outputs": [
    {
     "name": "stdin",
     "output_type": "stream",
     "text": [
      "Enter the 1st Number :  23\n",
      "Enter the 2nd Number :  45\n",
      "Enter the 3rd Number :  22\n"
     ]
    },
    {
     "name": "stdout",
     "output_type": "stream",
     "text": [
      "Greatest num: 45\n"
     ]
    }
   ],
   "source": [
    "#Nested If-Else Statements:\n",
    "#11. Write a program to find the largest among three numbers using nested if-else statements.\n",
    "\n",
    "def main():\n",
    "    num1 = int(input(\"Enter the 1st Number : \"))\n",
    "    num2 = int(input(\"Enter the 2nd Number : \"))\n",
    "    num3 = int(input(\"Enter the 3rd Number : \"))\n",
    "    \n",
    "    if num1==num2==num3:\n",
    "        print(f\"All three nums are equal..\")\n",
    "    \n",
    "    else:\n",
    "        if num1 > num2:\n",
    "            if num1 >= num3:\n",
    "                print(\"Greatest num:\",num1)\n",
    "            else:\n",
    "                print(\"Greatest num:\",num3)\n",
    "        else:\n",
    "            if num2 >= num3:\n",
    "                print(\"Greatest num:\",num2)\n",
    "            else:\n",
    "                print(\"Greatest num:\",num3)\n",
    "    \n",
    "if __name__ == \"__main__\":\n",
    "    main() \n",
    "\n",
    "\n"
   ]
  },
  {
   "cell_type": "code",
   "execution_count": 4,
   "id": "357c8e11-f916-4152-9ff3-94668365fcce",
   "metadata": {},
   "outputs": [
    {
     "name": "stdin",
     "output_type": "stream",
     "text": [
      "Enter the length of the first side:  23\n",
      "Enter the length of the second side:  23\n",
      "Enter the length of the third side:  23\n"
     ]
    },
    {
     "name": "stdout",
     "output_type": "stream",
     "text": [
      "The triangle is a equilateral triangle.\n"
     ]
    }
   ],
   "source": [
    "#Nested If-Else Statements:\n",
    "#12. Implement a program to determine if a triangle is equilateral, isosceles, or scalene.\n",
    "\n",
    "def main():\n",
    "    \n",
    "    side1 = float(input(\"Enter the length of the first side: \"))\n",
    "    side2 = float(input(\"Enter the length of the second side: \"))\n",
    "    side3 = float(input(\"Enter the length of the third side: \"))\n",
    "\n",
    "    \n",
    "    if side1 == side2 == side3:\n",
    "        triangle_type = \"equilateral\"\n",
    "    else:\n",
    "        if side1 == side2 or side1 == side3 or side2 == side3:\n",
    "            triangle_type = \"isosceles\"\n",
    "        else:\n",
    "            triangle_type = \"scalene\"\n",
    "\n",
    "    print(\"The triangle is a\", triangle_type, \"triangle.\")\n",
    "\n",
    "if __name__ == \"__main__\":\n",
    "    main() \n",
    "\n"
   ]
  },
  {
   "cell_type": "code",
   "execution_count": 60,
   "id": "2d52ee8b-bdb2-4a30-8fe9-fa3eb3fefa8d",
   "metadata": {},
   "outputs": [
    {
     "name": "stdin",
     "output_type": "stream",
     "text": [
      "Enter The Year :  1998\n"
     ]
    },
    {
     "name": "stdout",
     "output_type": "stream",
     "text": [
      "Year 1998 is not Leap year not even Century year..\n"
     ]
    }
   ],
   "source": [
    "#Nested If-Else Statements:\n",
    "#13. Develop a program that checks if a year is a leap year and also if it is a century year.\n",
    "\n",
    "def is_leap_year(year):\n",
    "    if year % 4 == 0 and year % 100 != 0:\n",
    "        return True\n",
    "    else:\n",
    "        return False\n",
    "    \n",
    "def is_century_year(year):\n",
    "    if year%100==0:\n",
    "        return True\n",
    "    else:\n",
    "        return False\n",
    "    \n",
    "def main():\n",
    "    year = int(input(\"Enter The Year : \"))\n",
    "        \n",
    "    if is_leap_year(year):\n",
    "        if is_century_year(year):\n",
    "            print(f\"Year {year} is Leap and Century year..\")\n",
    "        else:\n",
    "            print(f\"Year {year} is Leap but not a Century year..\")\n",
    "    if is_century_year(year):\n",
    "        if is_leap_year(year):\n",
    "            print(f\"Year {year} is Leap and Century year..\")\n",
    "        else:\n",
    "            print(f\"Year {year} is Century year but not a Leap year..\")\n",
    "    else:\n",
    "        print(f\"Year {year} is not Leap year not even Century year..\")\n",
    "    \n",
    "if __name__ == \"__main__\":\n",
    "    main() \n",
    "\n"
   ]
  },
  {
   "cell_type": "code",
   "execution_count": 13,
   "id": "e6cb3034-1f99-40cd-b529-3c6b1d8c2545",
   "metadata": {},
   "outputs": [
    {
     "name": "stdin",
     "output_type": "stream",
     "text": [
      "Enter the Number:  -1\n"
     ]
    },
    {
     "name": "stdout",
     "output_type": "stream",
     "text": [
      "-1 is a Negative Integer Number\n"
     ]
    }
   ],
   "source": [
    "#Nested If-Else Statements:\n",
    "#14. Write a Python script to determine if a number is positive, negative, or zero.\n",
    "\n",
    "def main():\n",
    "    num = int(input(\"Enter the Number: \"))\n",
    "        \n",
    "    if num !=0:\n",
    "        if num > 0:\n",
    "            print(f\"{num} is a Positive Integer Number\")\n",
    "        else:\n",
    "            print(f\"{num} is a Negative Integer Number\")\n",
    "    else:\n",
    "        print(f\"{num} is neither Negative nor Positive Integer Number\")        \n",
    "        \n",
    "if __name__ == \"__main__\":\n",
    "    main() \n"
   ]
  },
  {
   "cell_type": "code",
   "execution_count": 4,
   "id": "703d5342-be88-4d77-929e-5e5b5d0eb5a1",
   "metadata": {},
   "outputs": [
    {
     "name": "stdin",
     "output_type": "stream",
     "text": [
      "Enter your age:  20\n"
     ]
    },
    {
     "name": "stdout",
     "output_type": "stream",
     "text": [
      "You are not a teenager.\n"
     ]
    }
   ],
   "source": [
    "#Nested If-Else Statements:\n",
    "#15. Create a program to check if a person is a teenager (between 13 and 19 years old).\n",
    "\n",
    "def main():\n",
    "    age = int(input(\"Enter your age: \"))\n",
    "\n",
    "# Check if the person is a teenager\n",
    "        \n",
    "    if age > 12:\n",
    "        if age <= 19:\n",
    "            print(\"You are a teenager.\")\n",
    "        else:\n",
    "            print(\"You are not a teenager.\")\n",
    "    else:\n",
    "        print(\"You are not a teenager.\")\n",
    "\n",
    "if __name__ == \"__main__\":\n",
    "    main()\n"
   ]
  },
  {
   "cell_type": "code",
   "execution_count": 3,
   "id": "02293724-13bb-4465-9f87-467d21c48580",
   "metadata": {},
   "outputs": [
    {
     "name": "stdin",
     "output_type": "stream",
     "text": [
      "Enter the angle measure in degrees:  100\n"
     ]
    },
    {
     "name": "stdout",
     "output_type": "stream",
     "text": [
      "The angle with a measure of 100.0 degrees is a obtuse angle.\n"
     ]
    }
   ],
   "source": [
    "#Nested If-Else Statements:\n",
    "#16. Develop a program that determines the type of angle based on its measure (acute, obtuse, or right).\n",
    "\n",
    "def main():\n",
    "    angle_measure = float(input(\"Enter the angle measure in degrees: \"))\n",
    "\n",
    "        \n",
    "    if angle_measure <= 90:\n",
    "        if angle_measure == 90:\n",
    "            angle_type = \"right\"\n",
    "        else:\n",
    "            angle_type = \"acute\"\n",
    "    else:\n",
    "        angle_type = \"obtuse\"        \n",
    "            \n",
    "\n",
    "    print(f\"The angle with a measure of {angle_measure} degrees is a {angle_type} angle.\")\n",
    "\n",
    "if __name__ == \"__main__\":\n",
    "    main() "
   ]
  },
  {
   "cell_type": "code",
   "execution_count": 4,
   "id": "d6ab2814-e3c4-460e-8494-2fb83fe901a3",
   "metadata": {},
   "outputs": [
    {
     "name": "stdin",
     "output_type": "stream",
     "text": [
      "Enter the coefficient 'a':  12\n",
      "Enter the coefficient 'b':  0\n",
      "Enter the coefficient 'c':  34\n"
     ]
    },
    {
     "name": "stdout",
     "output_type": "stream",
     "text": [
      "-1632.0\n",
      "Complex roots: -0.00 + 1.68i and -0.00 - 1.68i\n"
     ]
    }
   ],
   "source": [
    "#Nested If-Else Statements:\n",
    "#17. Write a Python program to calculate the roots of a quadratic equation.\n",
    "\n",
    "def main():\n",
    "    \n",
    "    a = float(input(\"Enter the coefficient 'a': \"))\n",
    "    b = float(input(\"Enter the coefficient 'b': \"))\n",
    "    c = float(input(\"Enter the coefficient 'c': \"))\n",
    "\n",
    "    discriminant = b**2 - 4*a*c\n",
    "    print(discriminant)\n",
    "    \n",
    "    if discriminant >= 0:\n",
    "        if discriminant == 0:\n",
    "            root = -b / (2*a)\n",
    "            print(f\"One real root (double root): {root}\")\n",
    "        else:\n",
    "            root1 = (-b + (discriminant ** 0.5)) / (2*a)\n",
    "            root2 = (-b - (discriminant ** 0.5)) / (2*a)\n",
    "            print(f\"Two distinct real roots: {root1} and {root2}\")\n",
    "    else:\n",
    "        real_part = -b / (2*a)\n",
    "        imaginary_part = (abs(discriminant) ** 0.5) / (2*a)\n",
    "        print(f\"Complex roots: {real_part:.2f} + {imaginary_part:.2f}i and {real_part:.2f} - {imaginary_part:.2f}i\")        \n",
    "        \n",
    "        \n",
    "if __name__ == \"__main__\":\n",
    "    main()         \n"
   ]
  },
  {
   "cell_type": "code",
   "execution_count": 2,
   "id": "adbca348-1caa-4e3f-b490-e988953505db",
   "metadata": {},
   "outputs": [
    {
     "name": "stdin",
     "output_type": "stream",
     "text": [
      "Enter the day num between 1 to 7 3\n"
     ]
    },
    {
     "name": "stdout",
     "output_type": "stream",
     "text": [
      "Wednesday\n"
     ]
    }
   ],
   "source": [
    "#Nested If-Else Statements:\n",
    "#18. Implement a program to determine the day of the week based on a user-provided number (1 for Monday, 2 \n",
    "#    for Tuesday, etc.).\n",
    "\n",
    "\n",
    "def main():\n",
    "    \n",
    "    daynum = int(input(\"Enter the day num between 1 to 7\"))\n",
    "        \n",
    "    if daynum <= 7:\n",
    "        if daynum == 1:\n",
    "            print(\"Monday\")\n",
    "        elif daynum == 2:\n",
    "            print(\"Tuesday\")\n",
    "        elif daynum == 3:\n",
    "            print(\"Wednesday\")\n",
    "        elif daynum == 4:\n",
    "            print(\"Thursday\")\n",
    "        elif daynum == 5:\n",
    "            print(\"Friday\") \n",
    "        elif daynum == 6:\n",
    "            print(\"Saturday\")  \n",
    "        elif daynum == 7:\n",
    "            print(\"Sunday\")\n",
    "        else:\n",
    "            print(\"Invalid Input. Enter the valid choice between 1 to 7\")\n",
    "    else:\n",
    "        print(\"Invalid Input. Enter the valid choice between 1 to 7\")        \n",
    "        \n",
    "if __name__ == \"__main__\":\n",
    "    main()         \n",
    "           "
   ]
  },
  {
   "cell_type": "code",
   "execution_count": 59,
   "id": "5f639d77-2e22-4c41-8d2a-dbd6062f4b54",
   "metadata": {},
   "outputs": [
    {
     "name": "stdin",
     "output_type": "stream",
     "text": [
      "Enter the year :  2018\n"
     ]
    },
    {
     "name": "stdout",
     "output_type": "stream",
     "text": [
      "2018 is neither leap year nor divisible by 400..\n"
     ]
    }
   ],
   "source": [
    "#Nested If-Else Statements:\n",
    "#19. Create a program that determines if a year is a leap year and also if it is evenly divisible by 400.\n",
    "\n",
    "def is_leap_year(year):\n",
    "    if year % 4 == 0 and year % 100 != 0:\n",
    "        return True\n",
    "    else:\n",
    "        return False\n",
    "    \n",
    "def main():\n",
    "    year = int(input(\"Enter the year : \"))\n",
    "            \n",
    "        \n",
    "    if is_leap_year(year):\n",
    "        if year%400==0:\n",
    "            print(f\"{year} is a leap year and also divisible by 400.\")\n",
    "        else:\n",
    "            print(f\"{year} is a Leap year but not divisible by 400. ..\")\n",
    "            \n",
    "    elif year%400==0:\n",
    "        if is_leap_year(year):\n",
    "            print(f\"{year} is a leap year and also divisible by 400.\")\n",
    "        else:\n",
    "            print(f\"{year} is a not Leap year but divisible by 400..\")\n",
    "    else:\n",
    "        print(f\"{year} is neither leap year nor divisible by 400..\")   \n",
    "        \n",
    "if __name__ == \"__main__\":\n",
    "    main()           \n",
    "    \n",
    "    "
   ]
  },
  {
   "cell_type": "code",
   "execution_count": 1,
   "id": "65adefcd-c72b-4f78-b3d2-333d55fa4ad4",
   "metadata": {},
   "outputs": [
    {
     "name": "stdin",
     "output_type": "stream",
     "text": [
      "Enter the Number:  7\n"
     ]
    },
    {
     "name": "stdout",
     "output_type": "stream",
     "text": [
      "7 is a prime\n"
     ]
    }
   ],
   "source": [
    "#Nested If-Else Statements:\n",
    "#20. Develop a program that checks if a given number is prime or not using nested if-else statements.\n",
    "\n",
    "def main():\n",
    "    \n",
    "    num = int(input(\"Enter the Number: \"))\n",
    "    \n",
    "    if num <= 1:\n",
    "        print(f\"{num} is not a prime\")\n",
    "    else:\n",
    "        for i in range(2,num):\n",
    "            if num%i == 0:\n",
    "                print(f\"{num} is not a prime\")\n",
    "                break\n",
    "        else:\n",
    "            print(f\"{num} is a prime\")\n",
    "            \n",
    "if __name__ == \"__main__\":\n",
    "    main()           \n",
    "                \n",
    "        \n",
    "    \n",
    "    "
   ]
  },
  {
   "cell_type": "code",
   "execution_count": 58,
   "id": "209381b6-38e3-480e-ab03-4e30af9aed28",
   "metadata": {},
   "outputs": [
    {
     "name": "stdin",
     "output_type": "stream",
     "text": [
      "Enter your score :  56\n"
     ]
    },
    {
     "name": "stdout",
     "output_type": "stream",
     "text": [
      "Passed with grade 'F' \n"
     ]
    }
   ],
   "source": [
    "#Elif Statements:\n",
    "#21. Write a Python program to assign grades based on different ranges of scores using elif statements.\n",
    "\n",
    "def main():\n",
    "    score = int(input(\"Enter your score : \"))\n",
    "    if score >= 90:\n",
    "        print(\"Passed with grade 'A' \") \n",
    "    elif score >= 80:\n",
    "         print(\"Passed with grade 'B' \") \n",
    "    elif score >= 70:\n",
    "         print(\"Passed with grade 'C' \") \n",
    "    elif score >= 60:\n",
    "         print(\"Passed with grade 'D' \") \n",
    "    elif score >= 35:\n",
    "         print(\"Passed with grade 'F' \")        \n",
    "    else:\n",
    "         print(\"Failed better luck next time \") \n",
    "            \n",
    "if __name__ == \"__main__\":\n",
    "    main() \n",
    "\n",
    "\n",
    "\n"
   ]
  },
  {
   "cell_type": "code",
   "execution_count": 57,
   "id": "03e18494-0f5c-413a-9300-e7ee59cdf343",
   "metadata": {},
   "outputs": [
    {
     "name": "stdin",
     "output_type": "stream",
     "text": [
      "Enter the first angle:  45\n",
      "Enter the second angle:  45\n",
      "Enter the third angle:  90\n"
     ]
    },
    {
     "name": "stdout",
     "output_type": "stream",
     "text": [
      "The triangle is a right triangle.\n"
     ]
    }
   ],
   "source": [
    "#Elif Statements:\n",
    "#22. Implement a program to determine the type of a triangle based on its angles.\n",
    "\n",
    "def main():\n",
    "\n",
    "    angle1 = float(input(\"Enter the first angle: \"))\n",
    "    angle2 = float(input(\"Enter the second angle: \"))\n",
    "    angle3 = float(input(\"Enter the third angle: \"))\n",
    "\n",
    "    if angle1 + angle2 + angle3 == 180:\n",
    "        if angle1 < 90 and angle2 < 90 and angle3 < 90:\n",
    "            triangle_type = \"acute\"\n",
    "        elif angle1 == 90 or angle2 == 90 or angle3 == 90:\n",
    "            triangle_type = \"right\"\n",
    "        else:\n",
    "            triangle_type = \"obtuse\"\n",
    "    else:\n",
    "        triangle_type = \"invalid\"\n",
    "\n",
    "    if triangle_type == \"invalid\":\n",
    "        print(\"These angles cannot form a valid triangle.\")\n",
    "    else:\n",
    "        print(f\"The triangle is a {triangle_type} triangle.\")\n",
    "\n",
    "if __name__ == \"__main__\":\n",
    "    main() \n",
    "\n"
   ]
  },
  {
   "cell_type": "code",
   "execution_count": 52,
   "id": "19613d1c-c350-4742-8af2-c03ad3b59b1e",
   "metadata": {},
   "outputs": [
    {
     "name": "stdin",
     "output_type": "stream",
     "text": [
      "Enter your weight (kg):  56\n",
      "Enter your height (m):  120\n"
     ]
    },
    {
     "name": "stdout",
     "output_type": "stream",
     "text": [
      "Your BMI is 0.00, and you are categorized as underweight.\n"
     ]
    }
   ],
   "source": [
    "#Elif Statements:\n",
    "#23. Develop a program to categorize a given person's BMI into underweight, normal, overweight, or obese using \n",
    "#    elif statements.\n",
    "\n",
    "def main():\n",
    "    \n",
    "    weight = float(input(\"Enter your weight (kg): \"))\n",
    "    height = float(input(\"Enter your height (m): \"))\n",
    "\n",
    "    bmi = weight / (height * height)\n",
    "\n",
    "    \n",
    "    if bmi < 18.5:\n",
    "        category = \"underweight\"\n",
    "    elif 18.5 <= bmi < 24.9:\n",
    "        category = \"normal weight\"\n",
    "    elif 25 <= bmi < 29.9:\n",
    "        category = \"overweight\"\n",
    "    else:\n",
    "        category = \"obese\"\n",
    "\n",
    "    print(f\"Your BMI is {bmi:.2f}, and you are categorized as {category}.\")\n",
    "    \n",
    "if __name__ == \"__main__\":\n",
    "    main() \n",
    "    "
   ]
  },
  {
   "cell_type": "code",
   "execution_count": 7,
   "id": "79967e6c-612d-4b69-bf60-b7921607028c",
   "metadata": {},
   "outputs": [
    {
     "name": "stdin",
     "output_type": "stream",
     "text": [
      "Enter the Number :  -1\n"
     ]
    },
    {
     "name": "stdout",
     "output_type": "stream",
     "text": [
      "The number is negative.\n"
     ]
    }
   ],
   "source": [
    "#Elif Statements:\n",
    "#24. Create a program that determines whether a given number is positive, negative, or zero using elif \n",
    "#    statements.\n",
    "\n",
    "def main():\n",
    "    \n",
    "    number = int(input(\"Enter the Number : \"))\n",
    "    \n",
    "    if number > 0:\n",
    "        print(\"The number is positive.\")\n",
    "    elif number < 0:\n",
    "        print(\"The number is negative.\")\n",
    "    else:\n",
    "        print(\"The number is zero.\")\n",
    "                       \n",
    "if __name__ == \"__main__\":\n",
    "    main()                        \n"
   ]
  },
  {
   "cell_type": "code",
   "execution_count": 4,
   "id": "6b0faef0-402e-42ed-83d6-7ba002d3d4e1",
   "metadata": {},
   "outputs": [
    {
     "name": "stdin",
     "output_type": "stream",
     "text": [
      "Enter the character :  3\n"
     ]
    },
    {
     "name": "stdout",
     "output_type": "stream",
     "text": [
      "The character '3' is a numeric character.\n"
     ]
    }
   ],
   "source": [
    "#Elif Statements:\n",
    "#25. Write a Python script to determine the type of a character (uppercase, lowercase, or special) using elif \n",
    "#    statements.\n",
    "\n",
    "def main():\n",
    "    \n",
    "    char = input(\"Enter the character : \")[0]\n",
    "    \n",
    "    if char.isalpha():\n",
    "        if char.isupper():\n",
    "            print(f\"The character '{char}' is an uppercase letter.\")\n",
    "        elif char.islower():\n",
    "            print(f\"The character '{char}' is a lowercase letter.\")\n",
    "    else:\n",
    "        if char.isnumeric():\n",
    "            print(f\"The character '{char}' is a numeric character.\")\n",
    "        else:\n",
    "            print(f\"The character '{char}' is a special character.\")\n",
    "        \n",
    "if __name__ == \"__main__\":\n",
    "    main()         \n"
   ]
  },
  {
   "cell_type": "code",
   "execution_count": 3,
   "id": "2a51ea50-fce0-4cc8-ae92-eb1561cef5fa",
   "metadata": {},
   "outputs": [
    {
     "name": "stdin",
     "output_type": "stream",
     "text": [
      "Enter the purchase amount:  600\n"
     ]
    },
    {
     "name": "stdout",
     "output_type": "stream",
     "text": [
      "Discounted Price: $570.00 (Discount Rate: 5.0%)\n"
     ]
    }
   ],
   "source": [
    "#Elif Statements:\n",
    "#26. Implement a program to calculate the discounted price based on different purchase amounts using elif \n",
    "#    statements.\n",
    "\n",
    "def main():\n",
    "    \n",
    "    purchase_amount = float(input(\"Enter the purchase amount: \"))\n",
    "\n",
    "    if purchase_amount >= 1000:\n",
    "        discount_rate = 0.1\n",
    "        discounted_price = purchase_amount * (1 - discount_rate)\n",
    "        print(f\"Discounted Price: {discounted_price:.2f} (Discount Rate: {discount_rate * 100}%)\")\n",
    "    \n",
    "    elif purchase_amount >= 500:\n",
    "        discount_rate = 0.05\n",
    "        discounted_price = purchase_amount * (1 - discount_rate)\n",
    "        print(f\"Discounted Price: {discounted_price:.2f} (Discount Rate: {discount_rate * 100}%)\")\n",
    "    \n",
    "    else:\n",
    "        discount_rate = 0.0\n",
    "        print(f\"No discount applied. Price: {purchase_amount:.2f}\")\n",
    "        \n",
    "if __name__ == \"__main__\":\n",
    "    main()   \n"
   ]
  },
  {
   "cell_type": "code",
   "execution_count": 1,
   "id": "53459335-187e-4714-8129-f7a3c42717d4",
   "metadata": {},
   "outputs": [
    {
     "name": "stdin",
     "output_type": "stream",
     "text": [
      "Enter the electricity consumption (kWh):  450\n"
     ]
    },
    {
     "name": "stdout",
     "output_type": "stream",
     "text": [
      "Electricity Consumption: 450.0 kWh\n",
      "Total Bill: 155.00\n"
     ]
    }
   ],
   "source": [
    "#Elif Statements:\n",
    "#27. Develop a program to calculate the electricity bill based on different consumption slabs using elif \n",
    "#    statements.\n",
    "\n",
    "def main(): \n",
    "    \n",
    "    consumption = float(input(\"Enter the electricity consumption (kWh): \"))\n",
    "\n",
    "    rate_slab1 = 0.2  # Rate for the first 100 kWh\n",
    "    rate_slab2 = 0.3  # Rate for the next 200 kWh\n",
    "    rate_slab3 = 0.5  # Rate for consumption above 300 kWh\n",
    "    \n",
    "\n",
    "    if consumption <= 100:\n",
    "        total_bill = consumption * rate_slab1\n",
    "        \n",
    "    elif consumption <= 300:\n",
    "        total_bill = (100 * rate_slab1) + ((consumption - 100) * rate_slab2)\n",
    "        \n",
    "    else:\n",
    "        total_bill = (100 * rate_slab1) + (200 * rate_slab2) + ((consumption - 300) * rate_slab3)\n",
    "\n",
    "\n",
    "    print(f\"Electricity Consumption: {consumption} kWh\")\n",
    "    print(f\"Total Bill: {total_bill:.2f}\")\n",
    "\n",
    "if __name__ == \"__main__\":\n",
    "    main()   \n",
    "\n"
   ]
  },
  {
   "cell_type": "code",
   "execution_count": 1,
   "id": "edafb5eb-32de-45c7-975f-89335a4c1500",
   "metadata": {},
   "outputs": [
    {
     "name": "stdin",
     "output_type": "stream",
     "text": [
      "Enter the first angle (in degrees):  90\n",
      "Enter the second angle (in degrees):  90\n",
      "Enter the third angle (in degrees):  90\n",
      "Enter the fourth angle (in degrees):  90\n",
      "Enter the length of the first side:  30\n",
      "Enter the length of the second side:  30\n",
      "Enter the length of the third side:  30\n",
      "Enter the length of the fourth side:  30\n"
     ]
    },
    {
     "name": "stdout",
     "output_type": "stream",
     "text": [
      "The quadrilateral is a square.\n"
     ]
    }
   ],
   "source": [
    "#Elif Statements:\n",
    "#28. Create a program to determine the type of quadrilateral based on its angles and sides using elif \n",
    "#    statements\n",
    "\n",
    "def main():\n",
    "    \n",
    "    angle1 = float(input(\"Enter the first angle (in degrees): \"))\n",
    "    angle2 = float(input(\"Enter the second angle (in degrees): \"))\n",
    "    angle3 = float(input(\"Enter the third angle (in degrees): \"))\n",
    "    angle4 = float(input(\"Enter the fourth angle (in degrees): \"))\n",
    "\n",
    "    side1 = float(input(\"Enter the length of the first side: \"))\n",
    "    side2 = float(input(\"Enter the length of the second side: \"))\n",
    "    side3 = float(input(\"Enter the length of the third side: \"))\n",
    "    side4 = float(input(\"Enter the length of the fourth side: \"))\n",
    "\n",
    "    if angle1 + angle2 + angle3 + angle4 == 360:\n",
    "        if side1 == side2 == side3 == side4:\n",
    "            quadrilateral_type = \"square\"\n",
    "        elif side1 == side2 and side3 == side4:\n",
    "            quadrilateral_type = \"rectangle\"\n",
    "        elif side1 == side3 and side2 == side4:\n",
    "            quadrilateral_type = \"parallelogram\"\n",
    "        else:\n",
    "            quadrilateral_type = \"quadrilateral\"\n",
    "    else:\n",
    "        quadrilateral_type = \"invalid\"\n",
    "\n",
    "   \n",
    "    if quadrilateral_type == \"invalid\":\n",
    "        print(\"These angles and sides cannot form a valid quadrilateral.\")\n",
    "    else:\n",
    "        print(f\"The quadrilateral is a {quadrilateral_type}.\")\n",
    "\n",
    "if __name__ == \"__main__\":\n",
    "    main() \n"
   ]
  },
  {
   "cell_type": "code",
   "execution_count": 1,
   "id": "8cdc11c4-b172-4355-808a-224b0119ed4f",
   "metadata": {},
   "outputs": [
    {
     "name": "stdin",
     "output_type": "stream",
     "text": [
      "Enter a month (e.g., January, February, etc.):  january\n"
     ]
    },
    {
     "name": "stdout",
     "output_type": "stream",
     "text": [
      "The season for January is winter.\n"
     ]
    }
   ],
   "source": [
    "#Elif Statements:\n",
    "#29. Write a Python script to determine the season based on a user-provided month using elif statements.\n",
    "\n",
    "def main():\n",
    " \n",
    "    month = input(\"Enter a month (e.g., January, February, etc.): \")\n",
    "    month = month.lower()\n",
    "\n",
    "    if month in (\"december\", \"january\", \"february\"):\n",
    "        season = \"winter\"\n",
    "    elif month in (\"march\", \"april\", \"may\"):\n",
    "        season = \"spring\"\n",
    "    elif month in (\"june\", \"july\", \"august\"):\n",
    "        season = \"summer\"\n",
    "    elif month in (\"september\", \"october\", \"november\"):\n",
    "        season = \"fall\"\n",
    "    else:\n",
    "        season = \"unknown\"\n",
    "\n",
    "    if season != \"unknown\":\n",
    "        print(f\"The season for {month.capitalize()} is {season}.\")\n",
    "    else:\n",
    "        print(\"Unknown month or input error.\")\n",
    "        \n",
    "if __name__ == \"__main__\":\n",
    "    main()         \n"
   ]
  },
  {
   "cell_type": "code",
   "execution_count": 2,
   "id": "c598ceef-7b25-4fb1-af62-582df2ef73ac",
   "metadata": {},
   "outputs": [
    {
     "name": "stdin",
     "output_type": "stream",
     "text": [
      "Enter a year:  2023\n",
      "Enter a month (1-12):  4\n"
     ]
    },
    {
     "name": "stdout",
     "output_type": "stream",
     "text": [
      "The year 2023 is a common year, and the month 4 has 30 days.\n"
     ]
    }
   ],
   "source": [
    "#Elif Statements:\n",
    "#30. Implement a program to determine the type of a year (leap or common) and month (30 or 31 days) using \n",
    "#    elif statements.\n",
    "\n",
    "def main():\n",
    "    year = int(input(\"Enter a year: \"))\n",
    "    month = int(input(\"Enter a month (1-12): \"))\n",
    "\n",
    "    # Determine if the year is leap or common\n",
    "    if (year % 4 == 0 and year % 100 != 0) or (year % 400 == 0):\n",
    "        year_type = \"leap\"\n",
    "    else:\n",
    "        year_type = \"common\"\n",
    "\n",
    "        \n",
    "    if month in (1, 3, 5, 7, 8, 10, 12):\n",
    "        days_in_month = 31\n",
    "    elif month in (4, 6, 9, 11):\n",
    "        days_in_month = 30\n",
    "    elif month == 2:\n",
    "        if year_type == \"leap\":\n",
    "            days_in_month = 29\n",
    "        else:\n",
    "            days_in_month = 28\n",
    "    else:\n",
    "        days_in_month = None\n",
    "\n",
    "    \n",
    "    if days_in_month is not None:\n",
    "        print(f\"The year {year} is a {year_type} year, and the month {month} has {days_in_month} days.\")\n",
    "    else:\n",
    "        print(\"Invalid month input (1-12).\")\n",
    "        \n",
    "if __name__ == \"__main__\":\n",
    "    main()               \n",
    "\n"
   ]
  },
  {
   "cell_type": "code",
   "execution_count": 2,
   "id": "d2f78dbe-dc5c-46ee-9d1b-c544cc49d7e9",
   "metadata": {},
   "outputs": [
    {
     "name": "stdin",
     "output_type": "stream",
     "text": [
      "Enter the Number :  2\n"
     ]
    },
    {
     "name": "stdout",
     "output_type": "stream",
     "text": [
      "2 is a Positive number...\n"
     ]
    }
   ],
   "source": [
    "#Basic Level:\n",
    "#1. Write a Python program that checks if a given number is positive, negative, or zero.\n",
    "\n",
    "def numguesser(num):\n",
    "    if num > 0:\n",
    "        return \"Positive\"\n",
    "    elif num < 0:\n",
    "        return \"Negative\"\n",
    "    else:\n",
    "        return \"Zero\"\n",
    "    \n",
    "def main():\n",
    "    num = int(input(\"Enter the Number : \"))\n",
    "    print(f\"{num} is a {numguesser(num)} number...\")\n",
    "    \n",
    "if __name__ == \"__main__\":\n",
    "    main()      "
   ]
  },
  {
   "cell_type": "code",
   "execution_count": 2,
   "id": "e800aaaa-c93d-4b98-967c-3bf60bcb6903",
   "metadata": {},
   "outputs": [
    {
     "name": "stdin",
     "output_type": "stream",
     "text": [
      "Enter the age :  13\n"
     ]
    },
    {
     "name": "stdout",
     "output_type": "stream",
     "text": [
      "A person is not eligible for Voting\n",
      "Just wait for about 5 yrs...\n"
     ]
    }
   ],
   "source": [
    "#Basic Level:\n",
    "#2. Create a program to determine if a person is eligible to vote based on their age.\n",
    "\n",
    "def is_eligible(age):\n",
    "    if age >= 18:\n",
    "        print(\"A person is eligible for Voting\")\n",
    "    else:\n",
    "        required = 18 - age\n",
    "        print(f\"A person is not eligible for Voting\\nJust wait for about {required} yrs...\")\n",
    "        \n",
    "        \n",
    "def main():\n",
    "    age = int(input(\"Enter the age : \"))\n",
    "    is_eligible(age)\n",
    "        \n",
    "if __name__ == \"__main__\":\n",
    "    main()         "
   ]
  },
  {
   "cell_type": "code",
   "execution_count": 49,
   "id": "820d675e-4507-4dfd-ac7b-00fc8e71ce9f",
   "metadata": {},
   "outputs": [
    {
     "name": "stdin",
     "output_type": "stream",
     "text": [
      "Enter the 1st Num :  34\n",
      "Enter the 2nd Num :  43\n"
     ]
    },
    {
     "name": "stdout",
     "output_type": "stream",
     "text": [
      "43 is greater than 34..\n"
     ]
    }
   ],
   "source": [
    "#Basic Level:\n",
    "#3. Write a program to find the maximum of two given numbers using conditional statements.\n",
    "\n",
    "def main():\n",
    "    num1 = int(input(\"Enter the 1st Num : \"))\n",
    "    num2 = int(input(\"Enter the 2nd Num : \"))\n",
    "    \n",
    "    if num1>num2:\n",
    "        print(f\"{num1} is greater than {num2}..\")\n",
    "    elif num2>num1:\n",
    "        print(f\"{num2} is greater than {num1}..\")\n",
    "    else:\n",
    "        print(f\"{num1} & {num2} bothe are equal..\")\n",
    "        \n",
    "if __name__ == \"__main__\":\n",
    "    main()         "
   ]
  },
  {
   "cell_type": "code",
   "execution_count": 47,
   "id": "d3b2f77f-4087-4c13-9ba3-1751a0603c03",
   "metadata": {},
   "outputs": [
    {
     "name": "stdin",
     "output_type": "stream",
     "text": [
      "Enter your score :  70\n"
     ]
    },
    {
     "name": "stdout",
     "output_type": "stream",
     "text": [
      "Passed with grade 'C' \n"
     ]
    }
   ],
   "source": [
    "#Basic Level:\n",
    "#4. Develop a program that calculates the grade of a student based on their exam score.\n",
    "\n",
    "def main():\n",
    "    score = int(input(\"Enter your score : \"))\n",
    "    if score >=35:\n",
    "        if score >= 90:\n",
    "            print(\"Passed with grade 'A' \") \n",
    "        elif score >= 80:\n",
    "             print(\"Passed with grade 'B' \") \n",
    "        elif score >= 70:\n",
    "             print(\"Passed with grade 'C' \") \n",
    "        elif score >= 60:\n",
    "             print(\"Passed with grade 'D' \") \n",
    "        else:\n",
    "             print(\"Passed with grade 'F' \")\n",
    "    else:        \n",
    "         print(\"Failed, Better luck next time..\")   \n",
    "            \n",
    "if __name__ == \"__main__\":\n",
    "    main() "
   ]
  },
  {
   "cell_type": "code",
   "execution_count": 37,
   "id": "4ace3a20-7812-4642-b852-71092cd5fe79",
   "metadata": {},
   "outputs": [
    {
     "name": "stdin",
     "output_type": "stream",
     "text": [
      "Enter the Year :  2023\n"
     ]
    },
    {
     "name": "stdout",
     "output_type": "stream",
     "text": [
      "2023 year is not a Leap... \n"
     ]
    }
   ],
   "source": [
    "#Basic Level:\n",
    "#5. Create a program that checks if a year is a leap year or not.\n",
    "\n",
    "def is_leap_year(year):\n",
    "    if year % 4 == 0 and year % 100 != 0:\n",
    "        return True\n",
    "    else:\n",
    "        return False\n",
    "    \n",
    "    \n",
    "def main():\n",
    "    \n",
    "    year = int(input(\"Enter the Year : \"))\n",
    "    if is_leap_year(year):\n",
    "        print(f\"{year} year is a Leap... \")\n",
    "    else:\n",
    "        print(f\"{year} year is not a Leap... \")\n",
    "        \n",
    "if __name__ == \"__main__\":\n",
    "    main()         \n",
    "        "
   ]
  },
  {
   "cell_type": "code",
   "execution_count": 36,
   "id": "d2e939d9-2111-483b-8da1-5df8dd43efcf",
   "metadata": {},
   "outputs": [
    {
     "name": "stdin",
     "output_type": "stream",
     "text": [
      "Enter the length of the first side:  12\n",
      "Enter the length of the second side:  12\n",
      "Enter the length of the third side:  12\n"
     ]
    },
    {
     "name": "stdout",
     "output_type": "stream",
     "text": [
      "The triangle if equilateral triangle...\n"
     ]
    }
   ],
   "source": [
    "#Basic Level:\n",
    "#6. Write a program to classify a triangle based on its sides' lengths.\n",
    "\n",
    "def which_triangle(side1,side2,side3):\n",
    "    \n",
    "    if side1 == side2 == side3:\n",
    "        triangle_type = \"equilateral\"\n",
    "    elif side1 == side2 or side1 == side3 or side2 == side3:\n",
    "        triangle_type = \"isosceles\"\n",
    "    else:\n",
    "        triangle_type = \"scalene\"\n",
    "    return triangle_type \n",
    "\n",
    "def main():\n",
    "    side1 = float(input(\"Enter the length of the first side: \"))\n",
    "    side2 = float(input(\"Enter the length of the second side: \"))\n",
    "    side3 = float(input(\"Enter the length of the third side: \"))\n",
    "    \n",
    "    print(f\"The triangle if {which_triangle(side1,side2,side3)} triangle...\")\n",
    "    \n",
    "if __name__ == \"__main__\":\n",
    "    main()     \n"
   ]
  },
  {
   "cell_type": "code",
   "execution_count": 3,
   "id": "31c33298-ee34-4c84-924e-f8c87af9b101",
   "metadata": {},
   "outputs": [
    {
     "name": "stdin",
     "output_type": "stream",
     "text": [
      "Enter the number1 :  12\n",
      "Enter the number2 :  40\n",
      "Enter the number3 :  3\n"
     ]
    },
    {
     "name": "stdout",
     "output_type": "stream",
     "text": [
      "Largest number is 40...\n"
     ]
    }
   ],
   "source": [
    "#Basic Level:\n",
    "#7. Build a program that determines the largest of three given numbers.\n",
    "\n",
    "def largest(num1,num2,num3):\n",
    "    if num1 > num2:\n",
    "        if num1 > num3:\n",
    "            return num1\n",
    "        else:\n",
    "            return num3\n",
    "    else:\n",
    "        if num2 > num1:\n",
    "            if num2 > num3:\n",
    "                return num2\n",
    "            else:\n",
    "                return num3\n",
    "           \n",
    "        \n",
    "def main():\n",
    "    num1 = int(input(\"Enter the number1 : \"))\n",
    "    num2 = int(input(\"Enter the number2 : \"))\n",
    "    num3 = int(input(\"Enter the number3 : \"))\n",
    "    \n",
    "    print(f\"Largest number is {largest(num1,num2,num3)}...\")\n",
    "\n",
    "if __name__ == \"__main__\":\n",
    "    main()    \n"
   ]
  },
  {
   "cell_type": "code",
   "execution_count": 1,
   "id": "0e9fd8ef-b2ce-448c-bec8-0008f8f63b65",
   "metadata": {},
   "outputs": [
    {
     "name": "stdin",
     "output_type": "stream",
     "text": [
      "Enter the char : w\n"
     ]
    },
    {
     "name": "stdout",
     "output_type": "stream",
     "text": [
      "w is a Consonat..\n"
     ]
    }
   ],
   "source": [
    "#Basic Level:\n",
    "#8. Develop a program that checks whether a character is a vowel or a consonant.\n",
    "\n",
    "def is_vowel(char):\n",
    "    vowels = \"AaEeIiOoUu\"\n",
    "    if char in vowels:\n",
    "        return \"Vowel\"\n",
    "    else:\n",
    "        return \"Consonant\"\n",
    "    \n",
    "def main():\n",
    "    char = input(\"Enter the char :\")[0]\n",
    "    \n",
    "    print(f\"{char} is a {is_vowel(char)}..\")\n",
    "\n",
    "if __name__ == \"__main__\":\n",
    "    main() \n",
    "    \n",
    "    "
   ]
  },
  {
   "cell_type": "code",
   "execution_count": 2,
   "id": "62a1aa98-38ca-4c33-a1f2-7d2d9b62aac4",
   "metadata": {},
   "outputs": [],
   "source": [
    "#Basic Level:\n",
    "#9. Create a program to calculate the total cost of a shopping cart based on discounts.\n",
    "\n",
    "def main():\n",
    "\n",
    "    item_prices = {\"item1\": 10.0, \"item2\": 15.0, \"item3\": 20.0}\n",
    "    item_quantities = {}\n",
    "    \n",
    "    for item, price in item_prices.items():  # adding itemwise quantities...\n",
    "        quantity = int(input(f\"Enter the quantity of {item}: \"))\n",
    "        item_quantities[item] = quantity\n",
    "\n",
    "    # Calculate the total cost using list comprehension\n",
    "    total_cost = sum(item_prices[item] * item_quantities[item] for item in item_prices)\n",
    "\n",
    "    # Apply a 10% discount if the total cost is 50 or more\n",
    "    if total_cost >= 50:\n",
    "        total_cost *= 0.9  # 10% discount\n",
    "\n",
    "    # Display the result\n",
    "    print(f\"Total cost after discount: {total_cost:.2f}\")\n",
    "\n"
   ]
  },
  {
   "cell_type": "code",
   "execution_count": null,
   "id": "79792da6-556a-42b2-8769-8a10e0a426d3",
   "metadata": {},
   "outputs": [],
   "source": [
    "#Basic Level:\n",
    "#10. Write a program that checks if a given number is even or odd.\n",
    "\n",
    "def main():\n",
    "    num = int(input(\"Enter the num : \"))\n",
    "    \n",
    "    if num%2==0:\n",
    "        print(f\"{num} is a even number..\")\n",
    "    else:\n",
    "        print(f\"{num} is a odd number..\")\n",
    "        \n",
    "if __name__ == \"__main__\":\n",
    "    main()         \n",
    "        "
   ]
  },
  {
   "cell_type": "code",
   "execution_count": null,
   "id": "d9b91a1d-5038-40c2-87e0-df64f2b7566d",
   "metadata": {},
   "outputs": [],
   "source": [
    "#Intermediate Level:\n",
    "#11. Write a program that calculates the roots of a quadratic equation .\n",
    "\n",
    "def calc_descriminant(coef1,coef2,coef3):\n",
    "    return b**2 - 4*a*c\n",
    "\n",
    "\n",
    "\n",
    "def main():\n",
    "    \n",
    "    a = float(input(\"Enter the coefficient 'a': \"))\n",
    "    b = float(input(\"Enter the coefficient 'b': \"))\n",
    "    c = float(input(\"Enter the coefficient 'c': \"))\n",
    "\n",
    "    discriminant = calc_descriminant(a, b, c)\n",
    "    \n",
    "    if discriminant >= 0:\n",
    "        if discriminant == 0:\n",
    "            root = -b / (2*a)\n",
    "            print(f\"One real root (double root): {root}\")\n",
    "        else:\n",
    "            root1 = (-b + (discriminant ** 0.5)) / (2*a)\n",
    "            root2 = (-b - (discriminant ** 0.5)) / (2*a)\n",
    "            print(f\"Two distinct real roots: {root1} and {root2}\")\n",
    "    else:\n",
    "        real_part = -b / (2*a)\n",
    "        imaginary_part = (abs(discriminant) ** 0.5) / (2*a)\n",
    "        print(f\"Complex roots: {real_part:.2f} + {imaginary_part:.2f}i and {real_part:.2f} - {imaginary_part:.2f}i\")        \n",
    "        \n",
    "        \n",
    "if __name__ == \"__main__\":\n",
    "    main()         "
   ]
  },
  {
   "cell_type": "code",
   "execution_count": 1,
   "id": "f58df0d8-fca4-4068-ad28-c8b7170de765",
   "metadata": {},
   "outputs": [
    {
     "name": "stdin",
     "output_type": "stream",
     "text": [
      "Enter the day num between 1 to 7 4\n"
     ]
    },
    {
     "name": "stdout",
     "output_type": "stream",
     "text": [
      "Thursday\n"
     ]
    }
   ],
   "source": [
    "#Intermediate Level:\n",
    "#12. Create a program that determines the day of the week based on the day number (1-7).\n",
    "\n",
    "def main():\n",
    "    \n",
    "    daynum = int(input(\"Enter the day num between 1 to 7\"))\n",
    "        \n",
    "    if daynum <= 7:\n",
    "        if daynum == 1:\n",
    "            print(\"Monday\")\n",
    "        elif daynum == 2:\n",
    "            print(\"Tuesday\")\n",
    "        elif daynum == 3:\n",
    "            print(\"Wednesday\")\n",
    "        elif daynum == 4:\n",
    "            print(\"Thursday\")\n",
    "        elif daynum == 5:\n",
    "            print(\"Friday\") \n",
    "        elif daynum == 6:\n",
    "            print(\"Saturday\")  \n",
    "        elif daynum == 7:\n",
    "            print(\"Sunday\")\n",
    "        else:\n",
    "            print(\"Invalid Input. Enter the valid choice between 1 to 7\")\n",
    "    else:\n",
    "        print(\"Invalid Input. Enter the valid choice between 1 to 7\")        \n",
    "        \n",
    "if __name__ == \"__main__\":\n",
    "    main()         \n"
   ]
  },
  {
   "cell_type": "code",
   "execution_count": 2,
   "id": "5b007152-1f81-4872-9058-f65a36dfeba5",
   "metadata": {},
   "outputs": [
    {
     "name": "stdin",
     "output_type": "stream",
     "text": [
      "Enter the Number :  4\n"
     ]
    },
    {
     "name": "stdout",
     "output_type": "stream",
     "text": [
      "Factorial of 4 is 24..\n"
     ]
    }
   ],
   "source": [
    "#Intermediate Level:\n",
    "#13. Develop a program that calculates the factorial of a given number using recursion.\n",
    "\n",
    "def fact(num):\n",
    "    if num == 0:\n",
    "        return 1\n",
    "    else:\n",
    "        return num * fact(num-1)\n",
    "\n",
    "def main():\n",
    "    \n",
    "    num = int(input(\"Enter the Number : \"))\n",
    "    print(f\"Factorial of {num} is {fact(num)}..\")\n",
    "    \n",
    "if __name__ == \"__main__\":\n",
    "    main()    \n",
    "    \n",
    "    \n",
    "    \n",
    "    "
   ]
  },
  {
   "cell_type": "code",
   "execution_count": null,
   "id": "59a87dc9-dbf6-4eef-9f4b-65e36391efc6",
   "metadata": {},
   "outputs": [],
   "source": [
    "#Intermediate Level:\n",
    "#14. Write a program to find the largest among three numbers without using the `max()` function.\n",
    "\n",
    "\n",
    "def largest(num1,num2,num3):\n",
    "    if num1 > num2:\n",
    "        if num1 > num3:\n",
    "            return num1\n",
    "        else:\n",
    "            return num3\n",
    "    else:\n",
    "        if num2 > num1:\n",
    "            if num2 > num3:\n",
    "                return num2\n",
    "            else:\n",
    "                return num3\n",
    "           \n",
    "        \n",
    "def main():\n",
    "    num1 = int(input(\"Enter the number1 : \"))\n",
    "    num2 = int(input(\"Enter the number2 : \"))\n",
    "    num3 = int(input(\"Enter the number3 : \"))\n",
    "    \n",
    "    largest = 0\n",
    "    if num1 > num2:\n",
    "        if num1 > num3:\n",
    "            largest=num1\n",
    "        else:\n",
    "            largest=num3\n",
    "    else:\n",
    "        if num2 > num1:\n",
    "            if num2 > num3:\n",
    "                largest=num2\n",
    "            else:\n",
    "                largest=num3\n",
    "    \n",
    "    print(f\"Largest number is {largest(num1,num2,num3)}...\")\n",
    "\n",
    "if __name__ == \"__main__\":\n",
    "    main()    \n"
   ]
  },
  {
   "cell_type": "code",
   "execution_count": 15,
   "id": "226bed4c-7e69-40a2-bf71-23eee8784fe5",
   "metadata": {},
   "outputs": [
    {
     "name": "stdout",
     "output_type": "stream",
     "text": [
      "\n",
      "==SBI ATM==\n",
      "\n",
      "::Menu::\n",
      "1. Check Balance\n",
      "2. Deposit Funds\n",
      "3. Withdraw Funds\n",
      "4. Change Pin\n",
      "5. New Account\n",
      "6. Exit\n",
      "\n"
     ]
    },
    {
     "name": "stdin",
     "output_type": "stream",
     "text": [
      "Enter your Choice from Menu..i.e[1,2,3,4,5] 5\n"
     ]
    },
    {
     "name": "stdout",
     "output_type": "stream",
     "text": [
      ":::Add Account:::\n",
      "\n"
     ]
    },
    {
     "name": "stdin",
     "output_type": "stream",
     "text": [
      "Enter Name :  sag\n",
      "Enter the pin :  3333\n",
      "Confirm pin :  3333\n"
     ]
    },
    {
     "name": "stdout",
     "output_type": "stream",
     "text": [
      "sag Your account has been added..\n",
      "You can add amount balance through option 2..\n"
     ]
    },
    {
     "name": "stdin",
     "output_type": "stream",
     "text": [
      "Enter your Choice from Menu..i.e[1,2,3,4,5] 6\n"
     ]
    },
    {
     "name": "stdout",
     "output_type": "stream",
     "text": [
      "Exiting ATM. Have a nice day!\n"
     ]
    }
   ],
   "source": [
    "#Intermediate Level:\n",
    "#15. Create a program that simulates a basic ATM transaction menu.\n",
    "\n",
    "\n",
    "\n",
    "def main():\n",
    "    # name with balances\n",
    "    acc_balances = {\"sagar\":10000, \"ashish\":12000, \"mit\":4000, \"amey\":6000, \"aryesh\": 7000} \n",
    "    # Name with pins\n",
    "    pins = {\"sagar\":1234, \"ashish\":8080, \"mit\":4230, \"amey\":1608, \"aryesh\": 6080}\n",
    "    #hoices based on operations\n",
    "    print(\"\\n==SBI ATM==\\n\")\n",
    "    print(\"::Menu::\")\n",
    "    print(\"1. Check Balance\")\n",
    "    print(\"2. Deposit Funds\")\n",
    "    print(\"3. Withdraw Funds\")\n",
    "    print(\"4. Change Pin\")\n",
    "    print(\"5. New Account\")\n",
    "    print(\"6. Exit\\n\")\n",
    "    while True:\n",
    "        choice = int(input(\"Enter your Choice from Menu..i.e[1,2,3,4,5,6]\"))\n",
    "        \n",
    "        #Check balance condition\n",
    "        if choice == 1:\n",
    "            print(\":::Check Balance:::\\n\")\n",
    "            name = input(\"Enter Name : \")\n",
    "            if name.lower() in acc_balances:\n",
    "                pin = int(input(\"Enter pin : \"))\n",
    "                if pins[name.lower()] == pin:\n",
    "                    print(f\"hi {name} your balance is {acc_balances[name.lower()]}..\")\n",
    "                else:\n",
    "                    print(\"Wrong pin..\")\n",
    "            else:\n",
    "                print(\"You dont have account in SBI..\")\n",
    "         \n",
    "        #Diposite balance condition\n",
    "        if choice == 2:\n",
    "            print(\":::Diposite Funds:::\\n\")\n",
    "            name = input(\"Enter Name : \")\n",
    "            if name.lower() in acc_balances:\n",
    "                diposite_amount = int(input(\"Enter diposite amount : \"))\n",
    "                pin = int(input(\"Enter pin : \"))\n",
    "                if pins[name.lower()] == pin:\n",
    "                    previous_bal = acc_balances[name.lower()]\n",
    "                    acc_balances[name.lower()] += diposite_amount\n",
    "                    print(f\"Previous bal : {previous_bal}\\nDiposit amount : {diposite_amount}\\nCurrent bal :{acc_balances[name.lower()]} \")\n",
    "                else:\n",
    "                    print(\"Wrong pin..\")\n",
    "            else:\n",
    "                print(\"You dont have account in SBI..\")\n",
    "         \n",
    "        #Withdrawl balance condition\n",
    "        if choice == 3:\n",
    "            print(\":::Withdrawl Funds:::\\n\")\n",
    "            name = input(\"Enter Name : \")\n",
    "            if name.lower() in acc_balances:\n",
    "                withdraw_amount = int(input(\"Enter withdrawl amount : \"))\n",
    "                pin = int(input(\"Enter pin : \"))\n",
    "                if pins[name.lower()] == pin:\n",
    "                    previous_bal = acc_balances[name.lower()]\n",
    "                    acc_balances[name.lower()] -= withdraw_amount\n",
    "                    print(f\"Previous bal : {previous_bal}\\nWithdrawl amount : {withdraw_amount}\\nCurrent bal :{acc_balances[name.lower()]} \")\n",
    "                else:\n",
    "                    print(\"Wrong pin..\")\n",
    "            else:\n",
    "                print(\"You dont have account in SBI..\") \n",
    "                \n",
    "        #Change pin\n",
    "        if choice == 4:\n",
    "            print(\":::Pin Change:::\\n\")\n",
    "            name = input(\"Enter Name : \")\n",
    "            if name.lower() in acc_balances:\n",
    "                pin = int(input(\"Enter pin : \"))\n",
    "                if pins[name.lower()] == pin:\n",
    "                    while True:\n",
    "                        new_pin = int(input(\"Enter new pin : \"))\n",
    "                        confirm_pin = int(input(\"Confirm pin : \"))\n",
    "                        if new_pin == confirm_pin:\n",
    "                            pins[name.lower()] = new_pin\n",
    "                            print(\"Your pin has been Changed!!!\")\n",
    "                            break\n",
    "                        else:\n",
    "                            print(\"Pins not matching...Enter again\")\n",
    "                else:\n",
    "                    print(\"Wrong pin..\")\n",
    "            else:\n",
    "                print(\"You dont have account in SBI..\")\n",
    "                \n",
    "        # Adding new account\n",
    "        if choice == 5:\n",
    "            print(\":::Add Account:::\\n\")\n",
    "            while True:\n",
    "                name = input(\"Enter Name : \")\n",
    "                if name.lower() not in acc_balances:\n",
    "                    balance = 0\n",
    "                    while True:\n",
    "                        new_pin = int(input(\"Enter the pin : \"))\n",
    "                        confirm_pin = int(input(\"Confirm pin : \"))\n",
    "                        if new_pin == confirm_pin:\n",
    "                            acc_balances[name.lower()]=balance\n",
    "                            pins[name.lower()] = new_pin\n",
    "                            print(f\"{name} Your account has been added..\\nYou can add amount balance through option 2..\")\n",
    "                            break\n",
    "                        else:\n",
    "                            print(\"Pins not matching...Enter again\")\n",
    "                    break        \n",
    "                else:\n",
    "                    print(f\"{name} is already exist in record..\\n Try with different name... \")\n",
    "                \n",
    "                \n",
    "                \n",
    "        #Exiting a loop        \n",
    "        elif choice == 6:\n",
    "            print(\"Exiting ATM. Have a nice day!\")\n",
    "            break\n",
    "        #invalid choice\n",
    "        else:\n",
    "            print(\"Invalid choice. Please enter a valid option (1/2/3/4).\")\n",
    "\n",
    "\n",
    "if __name__ == \"__main__\":\n",
    "    main()            \n",
    "    "
   ]
  },
  {
   "cell_type": "code",
   "execution_count": null,
   "id": "765d4860-e324-486c-a593-d20831c516aa",
   "metadata": {},
   "outputs": [],
   "source": [
    "#Intermediate Level:\n",
    "#16. Build a program that checks if a given string is a palindrome or not.\n",
    "\n",
    "def main():\n",
    "    string = input(\"Enter the String : \")\n",
    "    \n",
    "    if string.lower() == string[::-1].lower():\n",
    "        print(f\"Given string is Palindrome...\")\n",
    "    else:\n",
    "        print(f\"Given string is not Palindrome...\")\n",
    "if __name__ == \"__main__\":\n",
    "    main()     \n",
    "    "
   ]
  },
  {
   "cell_type": "code",
   "execution_count": 17,
   "id": "762f4889-0d97-481c-b4c0-6412439f28a7",
   "metadata": {},
   "outputs": [
    {
     "name": "stdout",
     "output_type": "stream",
     "text": [
      "So the average of lst 348.78 after excluding smallest : 3 & largest : 89...\n"
     ]
    }
   ],
   "source": [
    "#Intermediate Level:\n",
    "#17. Write a program that calculates the average of a list of numbers, excluding the smallest and largest values.\n",
    "\n",
    "def main():\n",
    "    lst = [12,45,3,55,3,89,65,54,33]\n",
    "    smallest = min(lst)\n",
    "    largest = max(lst)\n",
    "    \n",
    "    #print(smallest,\"\\n\",largest)\n",
    "    \n",
    "    average = sum(lst)-(smallest+largest)/len(lst)\n",
    "    print(f\"So the average of lst {average:.2f} after excluding smallest : {smallest} & largest : {largest}...\")\n",
    "    \n",
    "if __name__ == \"__main__\":\n",
    "    main()     \n"
   ]
  },
  {
   "cell_type": "code",
   "execution_count": 19,
   "id": "a3328d47-87f6-4c3b-b831-b73274662db1",
   "metadata": {},
   "outputs": [
    {
     "name": "stdin",
     "output_type": "stream",
     "text": [
      "Enter the celcious temperature value: \n",
      " 34\n"
     ]
    },
    {
     "name": "stdout",
     "output_type": "stream",
     "text": [
      "34.0C is equal to 93.20F\n",
      "\n"
     ]
    },
    {
     "name": "stdin",
     "output_type": "stream",
     "text": [
      "Do you want to perform another conversion?? (Yes/No):  yes\n",
      "Enter the celcious temperature value: \n",
      " 34\n"
     ]
    },
    {
     "name": "stdout",
     "output_type": "stream",
     "text": [
      "34.0C is equal to 93.20F\n",
      "\n"
     ]
    },
    {
     "name": "stdin",
     "output_type": "stream",
     "text": [
      "Do you want to perform another conversion?? (Yes/No):  no\n"
     ]
    },
    {
     "name": "stdout",
     "output_type": "stream",
     "text": [
      "Thank you for using the Temperature Conversion!!\n"
     ]
    }
   ],
   "source": [
    "#Intermediate Level:\n",
    "#18. Develop a program that converts a given temperature from Celsius to Fahrenheit.\n",
    "\n",
    "def CelsiusToFahrenheit(temp):\n",
    "    convertedTemp = temp * 9/5 + 32\n",
    "    return convertedTemp\n",
    "\n",
    "\n",
    "def main():\n",
    "    while True:\n",
    "        try:\n",
    "            temperatureValue = float(input(\"Enter the celcious temperature value: \\n\"))\n",
    "            ConvertedTemperature = CelsiusToFahrenheit(temperatureValue)  \n",
    "            print(f\"{temperatureValue}C is equal to {ConvertedTemperature:.2f}F\\n\")    \n",
    "    \n",
    "            repeatConversion = input(\"Do you want to perform another conversion?? (Yes/No): \").capitalize()\n",
    "            if repeatConversion != 'Yes':\n",
    "                print(\"Thank you for using the Temperature Conversion!!\")\n",
    "                break    \n",
    "        except ValueError:\n",
    "            print(\"Invalid input, Please enter a valid temperature Value..\\n\")\n",
    "\n",
    "            \n",
    "if __name__ == '__main__':\n",
    "    main()\n",
    "    "
   ]
  },
  {
   "cell_type": "code",
   "execution_count": 22,
   "id": "8a9b51a3-6f5d-467e-a250-7c0788ba31e8",
   "metadata": {},
   "outputs": [
    {
     "name": "stdout",
     "output_type": "stream",
     "text": [
      "Simple Calculator Programme.\n",
      "============================\n"
     ]
    },
    {
     "name": "stdin",
     "output_type": "stream",
     "text": [
      "Enter the 1st value:  12\n",
      "Enter the operator (+,-,*,/,%):  +\n",
      "Enter the 2nd value:  12\n"
     ]
    },
    {
     "name": "stdout",
     "output_type": "stream",
     "text": [
      "24\n"
     ]
    },
    {
     "name": "stdin",
     "output_type": "stream",
     "text": [
      "Do you want to use again Calculator (Yes/No):  yes\n",
      "Enter the 1st value:  45\n",
      "Enter the operator (+,-,*,/,%):  /\n",
      "Enter the 2nd value:  0\n"
     ]
    },
    {
     "name": "stdout",
     "output_type": "stream",
     "text": [
      "ZeroDivisionError: Division by zero not possible.\n"
     ]
    },
    {
     "name": "stdin",
     "output_type": "stream",
     "text": [
      "Do you want to use again Calculator (Yes/No):  no\n"
     ]
    },
    {
     "name": "stdout",
     "output_type": "stream",
     "text": [
      "Thank you for using this Calculator.\n"
     ]
    }
   ],
   "source": [
    "#Intermediate Level:\n",
    "#19. Create a program that simulates a basic calculator for addition, subtraction, multiplication, and division.\n",
    "\n",
    "def Calculator(val1,operator,val2):\n",
    "    if operator == '+':\n",
    "        result = val1+val2\n",
    "    elif operator == '-':\n",
    "        result = val1-val2\n",
    "    elif operator == '*':\n",
    "        result = val1*val2\n",
    "    elif operator == '/':\n",
    "        if val2 == 0:\n",
    "            result = \"ZeroDivisionError: Division by zero not possible.\"\n",
    "        else:    \n",
    "            result = val1/val2\n",
    "    elif operator == '%':\n",
    "        if val2 == 0:\n",
    "            result = \"ZeroDivisionError: integer modulo by zero not possible.\"\n",
    "        else:    \n",
    "            result = val1%val2\n",
    "    else:\n",
    "        pass  \n",
    "    return result\n",
    "\n",
    "class OperatorException(Exception):\n",
    "    pass\n",
    "\n",
    "print(\"Simple Calculator Programme.\\n============================\")\n",
    "def main():     \n",
    "    while True :\n",
    "        try:\n",
    "            val1 = int(input(\"Enter the 1st value: \"))\n",
    "            try:\n",
    "                operator = input(\"Enter the operator (+,-,*,/,%): \")\n",
    "                if operator not in ['+','-','*','/','%']:\n",
    "                    raise OperatorException\n",
    "                else:\n",
    "                    pass\n",
    "            except OperatorException:\n",
    "                print(\"OperatorError: Enter the valid Operator from (+,-,*,/,%).\\nTry again and next-time use valid operator..\")\n",
    "                #main()\n",
    "            \n",
    "            val2 = int(input(\"Enter the 2nd value: \"))\n",
    "            print(Calculator(val1,operator,val2))\n",
    "            \n",
    "            Repeat = input(\"Do you want to use again Calculator (Yes/No): \").capitalize()\n",
    "            \n",
    "            if Repeat !='Yes':\n",
    "                print(\"Thank you for using this Calculator.\")\n",
    "                break  \n",
    "        except ValueError:\n",
    "            print(\"Invalid Input, Please enter the valid input(integer values).\")\n",
    "            \n",
    "if __name__=='__main__':\n",
    "    main()           \n",
    "    \n"
   ]
  },
  {
   "cell_type": "code",
   "execution_count": 23,
   "id": "1fcde6e5-a6f9-4464-be1d-a2672520ed5f",
   "metadata": {},
   "outputs": [
    {
     "name": "stdin",
     "output_type": "stream",
     "text": [
      "Enter coefficient a:  12\n",
      "Enter coefficient b:  34\n",
      "Enter coefficient c:  22\n",
      "Enter coefficient d:  11\n"
     ]
    },
    {
     "name": "stdout",
     "output_type": "stream",
     "text": [
      "Root: -0.189786+1.307106j\n"
     ]
    }
   ],
   "source": [
    "#Intermediate Level:\n",
    "#20. Write a program that determines the roots of a cubic equation using the Cardano formula.\n",
    "\n",
    "\n",
    "def main():\n",
    "\n",
    "    # Input coefficients\n",
    "    a = float(input(\"Enter coefficient a: \"))\n",
    "    b = float(input(\"Enter coefficient b: \"))\n",
    "    c = float(input(\"Enter coefficient c: \"))\n",
    "    d = float(input(\"Enter coefficient d: \"))\n",
    "\n",
    "    # Calculate some intermediate values\n",
    "    p = (3 * a * c - b ** 2) / (3 * a ** 2)\n",
    "    q = (2 * b ** 3 - 9 * a * b * c + 27 * a ** 2 * d) / (27 * a ** 3)\n",
    "\n",
    "    # Calculate the discriminant\n",
    "    discriminant = (q / 2) ** 2 + (p / 3) ** 3\n",
    "\n",
    "    if discriminant > 0:\n",
    "        # Three real roots\n",
    "        root1 = ((-q / 2 + (q / 2) ** 2 + (p / 3) ** 3) ** (1 / 3) + (-q / 2 - (q / 2) ** 2 + (p / 3) ** 3) ** (1 / 3)) - b / (3 * a)\n",
    "        print(f\"Root: {root1:.6f}\")\n",
    "    elif discriminant == 0:\n",
    "        # Three real roots, two of them are equal\n",
    "        if q < 0:\n",
    "            root1 = ((-q / 2 + (q / 2) ** 2 + (p / 3) ** 3) ** (1 / 3) + (-q / 2 - (q / 2) ** 2 + (p / 3) ** 3) ** (1 / 3)) - b / (3 * a)\n",
    "            print(f\"Root 1: {root1:.6f}\")\n",
    "            print(f\"Root 2: {root1:.6f}\")\n",
    "        else:\n",
    "            root1 = (-q / 2) ** (1 / 3) - b / (3 * a)\n",
    "            root2 = (q / 2) ** (1 / 3) - b / (3 * a)\n",
    "            print(f\"Root 1: {root1:.6f}\")\n",
    "            print(f\"Root 2: {root2:.6f}\")\n",
    "    else:\n",
    "        # One real root, two complex roots\n",
    "        r = ((-(p / 3) ** 3) ** (1 / 2))\n",
    "        theta = math.acos(-q / (2 * ((-(p / 3) ** 3) ** (1 / 2))))\n",
    "        root1 = (2 * ((-(p / 3) ** 3) ** (1 / 2))) * (math.cos(theta / 3)) - b / (3 * a)\n",
    "        root2 = (2 * ((-(p / 3) ** 3) ** (1 / 2))) * (math.cos((theta + 2 * math.pi) / 3)) - b / (3 * a)\n",
    "        root3 = (2 * ((-(p / 3) ** 3) ** (1 / 2))) * (math.cos((theta + 4 * math.pi) / 3)) - b / (3 * a)\n",
    "        print(f\"Real Root: {root1:.6f}\")\n",
    "        print(f\"Complex Root 1: {root2:.6f} + i{0:.6f}\")\n",
    "        print(f\"Complex Root 2: {root3:.6f} + i{0:.6f}\")\n",
    "\n",
    "if __name__=='__main__':\n",
    "    main()   "
   ]
  },
  {
   "cell_type": "code",
   "execution_count": 2,
   "id": "98af652a-6a83-4579-9870-682b3956c6b7",
   "metadata": {},
   "outputs": [
    {
     "name": "stdin",
     "output_type": "stream",
     "text": [
      "Enter your Income :  12000\n"
     ]
    },
    {
     "name": "stdout",
     "output_type": "stream",
     "text": [
      "Calculated tax of income 12000.0 is 1399.8...\n"
     ]
    }
   ],
   "source": [
    "#Advanced Level:\n",
    "#21. Create a program that calculates the income tax based on the user's income and tax brackets.\n",
    "\n",
    "def main():\n",
    "    \n",
    "    income = float(input(\"Enter your Income : \"))\n",
    "    \n",
    "    incomewisetax = [(0,10000,0.1),(10001,20000,0.2),(20001,50000,0.03),(50001,100000,0.04),(100001,float('inf'),0.05)]\n",
    "    \n",
    "    tax = 0\n",
    "    \n",
    "    for entity in incomewisetax:\n",
    "        start,end,rate = entity\n",
    "        if income >= 0:\n",
    "            if income <= start:\n",
    "                break\n",
    "            elif income <= end:\n",
    "                tax += (income - start) * rate\n",
    "                break\n",
    "            else:\n",
    "                tax += (end - start) * rate\n",
    "                \n",
    "        else:\n",
    "            print(\"Income cannot be less than 0..\\n enter a valid income...\")\n",
    "            break\n",
    "            \n",
    "            \n",
    "    print(f\"Calculated tax of income {income} is {tax}...\")        \n",
    "    \n",
    "\n",
    "if __name__=='__main__':\n",
    "    main()   \n",
    "    \n",
    "    \n",
    "    \n"
   ]
  },
  {
   "cell_type": "code",
   "execution_count": 7,
   "id": "9a9b5bed-0c67-4848-9196-8e4f0137fcf4",
   "metadata": {},
   "outputs": [
    {
     "name": "stdin",
     "output_type": "stream",
     "text": [
      "Enter your choice (Rock, Paper, Scissor):  rock\n"
     ]
    },
    {
     "name": "stdout",
     "output_type": "stream",
     "text": [
      "Its a draw match....rock = rock..\n"
     ]
    },
    {
     "name": "stdin",
     "output_type": "stream",
     "text": [
      "Do you want to play again (yes or no) :  yes\n",
      "Enter your choice (Rock, Paper, Scissor):  rock\n"
     ]
    },
    {
     "name": "stdout",
     "output_type": "stream",
     "text": [
      "Its a draw match....rock = rock..\n"
     ]
    },
    {
     "name": "stdin",
     "output_type": "stream",
     "text": [
      "Do you want to play again (yes or no) :  yes\n",
      "Enter your choice (Rock, Paper, Scissor):  rock\n"
     ]
    },
    {
     "name": "stdout",
     "output_type": "stream",
     "text": [
      "You loss...paper beats the rock\n"
     ]
    },
    {
     "name": "stdin",
     "output_type": "stream",
     "text": [
      "Do you want to play again (yes or no) :  no\n"
     ]
    },
    {
     "name": "stdout",
     "output_type": "stream",
     "text": [
      "By...\n"
     ]
    }
   ],
   "source": [
    "#Advanced Level:\n",
    "#22. Write a program that simulates a rock-paper-scissors game against the computer.\n",
    "\n",
    "import random\n",
    "\n",
    "def main():\n",
    "    \n",
    "    choices = [\"rock\",\"paper\",\"scissor\"]\n",
    "    \n",
    "    while True:\n",
    "        user_choice = input(\"Enter your choice (Rock, Paper, Scissor): \").lower()\n",
    "        computer_choice = random.choice(choices)\n",
    "\n",
    "        if user_choice not in choices:\n",
    "            print(\"Invalid choice. Please choose from 'rock', 'paper', or 'scissors'.\")\n",
    "\n",
    "        else:\n",
    "            if user_choice == computer_choice:\n",
    "                print(f\"Its a draw match....{user_choice} = {computer_choice}..\")\n",
    "            else:\n",
    "                if (user_choice == \"rock\" and computer_choice == \"scissor\") or (user_choice == \"paper\" and computer_choice == \"rock\") or (user_choice == \"scissor\" and computer_choice == \"paper\"):\n",
    "                    print(f\"You wins...{user_choice} beats the {computer_choice}\")\n",
    "                else:\n",
    "                    print(f\"You loss...{computer_choice} beats the {user_choice}\")\n",
    "\n",
    "        repeat = input(\"Do you want to play again (yes or no) : \").lower()\n",
    "        if repeat != 'yes':\n",
    "            print(\"By...\")\n",
    "            break\n",
    "    \n",
    "    \n",
    "    \n",
    "if __name__=='__main__':\n",
    "    main()    \n",
    "\n",
    "\n",
    "\n"
   ]
  },
  {
   "cell_type": "code",
   "execution_count": 10,
   "id": "923cb999-1d98-4638-8794-e5256db87c61",
   "metadata": {},
   "outputs": [
    {
     "name": "stdin",
     "output_type": "stream",
     "text": [
      "Enter the password length:  8\n",
      "Enter complexity level (low/medium/high):  hh\n"
     ]
    },
    {
     "name": "stdout",
     "output_type": "stream",
     "text": [
      "Invalid Complexity...chose from (low/medium/high)\n"
     ]
    },
    {
     "name": "stdin",
     "output_type": "stream",
     "text": [
      "Enter the password length:  10\n",
      "Enter complexity level (low/medium/high):  high\n"
     ]
    },
    {
     "name": "stdout",
     "output_type": "stream",
     "text": [
      "Generated Password: ;ymBo_w|u<\n"
     ]
    }
   ],
   "source": [
    "#Advanced Level:\n",
    "#23. Develop a program that generates a random password based on user preferences (length, complexity).\n",
    "\n",
    "import random\n",
    "import string\n",
    "\n",
    "def generate_password(length, complexity):\n",
    "    if complexity == \"low\":\n",
    "        # Use only lowercase letters and numbers\n",
    "        characters = string.ascii_lowercase + string.digits\n",
    "    elif complexity == \"medium\":\n",
    "        # Use lowercase letters, uppercase letters, and numbers\n",
    "        characters = string.ascii_letters + string.digits\n",
    "    else:\n",
    "        # Use default character set for high complexity or any other case\n",
    "        characters = string.ascii_letters + string.digits + string.punctuation\n",
    "\n",
    "    # Generate the password\n",
    "    password = ''.join(random.choice(characters) for _ in range(length))\n",
    "    return password\n",
    "\n",
    "\n",
    "def main():\n",
    "   \n",
    "    while True:\n",
    "        length = int(input(\"Enter the password length: \"))\n",
    "        complexity = input(\"Enter complexity level (low/medium/high): \").lower()\n",
    "\n",
    "        if complexity in [\"low\",\"medium\",\"high\"]:\n",
    "            password = generate_password(length, complexity)\n",
    "            print(\"Generated Password:\", password)\n",
    "            break\n",
    "        else:\n",
    "            print(\"Invalid Complexity...chose from (low/medium/high)\")\n",
    "\n",
    "if __name__=='__main__':\n",
    "    main()    \n",
    "            \n"
   ]
  },
  {
   "cell_type": "code",
   "execution_count": null,
   "id": "b0df75c6-7386-47d5-8e42-e167b3192b60",
   "metadata": {},
   "outputs": [],
   "source": [
    "#Advanced Level:\n",
    "#24. Create a program that implements a simple text-based adventure game with branching scenarios.\n",
    "\n",
    "def main():\n",
    "    print(\"===Text Adventure Game!===\")\n",
    "    print(\"You are in forest, yourself standing at a crossroads. You can go left or right.\")\n",
    "    \n",
    "    while True:\n",
    "        choice = input(\"Where do you want to do? (left/right/quit): \").lower()\n",
    "        \n",
    "        if choice == \"left\":\n",
    "            print(\"<- .You encounter a friendly squirrel.\")\n",
    "            action = input(\"Do you want to 'pet' the squirrel or 'ignore' it? \").lower()\n",
    "            if action == \"pet\":\n",
    "                print(\"The squirrel is happy and gives you a shiny acorn.\")\n",
    "                print(\"You win the game! Congratulations!\")\n",
    "                break\n",
    "            elif action == \"ignore\":\n",
    "                print(\"The squirrel looks sad but lets you pass.\")\n",
    "                print(\"You continue on your journey.\")\n",
    "            else:\n",
    "                print(\"Invalid action. Please choose 'pet' or 'ignore'.\")\n",
    "\n",
    "        elif choice == \"right\":\n",
    "           \n",
    "            print(\"-> You come across a mysterious door.\")\n",
    "            action = input(\"Do you want to 'open' the door or 'turn back'? \").lower()\n",
    "            if action == \"open\":\n",
    "                print(\"You open the door and find a treasure chest!\")\n",
    "                print(\"You win the game! Congratulations!\")\n",
    "                break\n",
    "            elif action == \"turn back\":\n",
    "                print(\"You decide not to open the door and continue on your journey.\")\n",
    "            else:\n",
    "                print(\"Invalid action. Please choose 'open' or 'turn back'.\")\n",
    "\n",
    "        elif choice == \"quit\":\n",
    "            print(\"Thanks for playing! Goodbye!\")\n",
    "            break\n",
    "\n",
    "        else:\n",
    "            print(\"Invalid choice. Please choose 'left', 'right', or 'quit'.\")\n",
    "\n",
    "if __name__ == \"__main__\":\n",
    "    main()\n"
   ]
  },
  {
   "cell_type": "code",
   "execution_count": null,
   "id": "47d32f8a-b8a7-48c6-9592-be9d50dcfe44",
   "metadata": {},
   "outputs": [],
   "source": [
    "#Advanced Level:\n",
    "#25. Build a program that solves a linear equation  for x, considering different cases.\n",
    "\n",
    "def linear_equation(a, b):\n",
    "    if a == 0:\n",
    "        if b == 0:\n",
    "            return \"Infinite solutions (any value of x)\"\n",
    "        else:\n",
    "            return \"No solution (contradiction)\"\n",
    "    else:\n",
    "        x = -b / a\n",
    "        return f\"The solution is x = {x:.2f}\"\n",
    "\n",
    "def main():\n",
    "    print(\"Linear Equation Solver\")\n",
    "    print(\"A linear equation is in the form: ax + b = 0\")\n",
    "\n",
    "    a = float(input(\"Enter the value of 'a': \"))\n",
    "    b = float(input(\"Enter the value of 'b': \"))\n",
    "\n",
    "    result = linear_equation(a, b)\n",
    "    print(result)\n",
    "\n",
    "if __name__ == \"__main__\":\n",
    "    main()\n"
   ]
  },
  {
   "cell_type": "code",
   "execution_count": 1,
   "id": "c1b86e98-a74f-4833-b529-9660cbba299f",
   "metadata": {},
   "outputs": [
    {
     "name": "stdout",
     "output_type": "stream",
     "text": [
      "Welcome to the Quiz Game!\n",
      "\n",
      "Question 1: What is the capital of France?\n",
      "1. Paris\n",
      "2. London\n",
      "3. Berlin\n"
     ]
    },
    {
     "name": "stdin",
     "output_type": "stream",
     "text": [
      "Your choice:  1\n"
     ]
    },
    {
     "name": "stdout",
     "output_type": "stream",
     "text": [
      "Correct!\n",
      "\n",
      "Question 2: Which planet is known as the 'Red Planet'?\n",
      "1. Earth\n",
      "2. Mars\n",
      "3. Venus\n"
     ]
    },
    {
     "name": "stdin",
     "output_type": "stream",
     "text": [
      "Your choice:  3\n"
     ]
    },
    {
     "name": "stdout",
     "output_type": "stream",
     "text": [
      "Incorrect. The correct answer was: Mars\n",
      "\n",
      "Question 3: What is the largest mammal in the world?\n",
      "1. Elephant\n",
      "2. Blue Whale\n",
      "3. Giraffe\n"
     ]
    },
    {
     "name": "stdin",
     "output_type": "stream",
     "text": [
      "Your choice:  56\n"
     ]
    },
    {
     "name": "stdout",
     "output_type": "stream",
     "text": [
      "Incorrect. The correct answer was: Blue Whale\n",
      "\n",
      "Quiz completed! Your score is: 1/3\n"
     ]
    }
   ],
   "source": [
    "#Advanced Level:\n",
    "#26. Write a program that simulates a basic quiz game with multiple-choice questions and scoring.\n",
    "\n",
    "\n",
    "class Question:\n",
    "    def __init__(self, text, choices, correct_choice):\n",
    "        self.text = text\n",
    "        self.choices = choices\n",
    "        self.correct_choice = correct_choice\n",
    "\n",
    "class Quiz:\n",
    "    def __init__(self):\n",
    "        self.questions = []\n",
    "\n",
    "    def add_question(self, text, choices, correct_choice):\n",
    "        self.questions.append(Question(text, choices, correct_choice))\n",
    "\n",
    "    def start_quiz(self):\n",
    "        score = 0\n",
    "        print(\"Welcome to the Quiz Game!\\n\")\n",
    "\n",
    "        for i, question in enumerate(self.questions, 1):\n",
    "            print(f\"Question {i}: {question.text}\")\n",
    "            for j, choice in enumerate(question.choices, 1):\n",
    "                print(f\"{j}. {choice}\")\n",
    "\n",
    "            answer = int(input(\"Your choice: \"))\n",
    "            score += answer == question.correct_choice\n",
    "\n",
    "            print(\"Correct!\\n\" if answer == question.correct_choice else f\"Incorrect. The correct answer was: {question.choices[question.correct_choice - 1]}\\n\")\n",
    "\n",
    "        print(f\"Quiz completed! Your score is: {score}/{len(self.questions)}\")\n",
    "\n",
    "def main():\n",
    "    quiz = Quiz()\n",
    "\n",
    "    # Add questions to the quiz\n",
    "    quiz.add_question(\"What is the capital of France?\", [\"Paris\", \"London\", \"Berlin\"], 1)\n",
    "    quiz.add_question(\"Which planet is known as the 'Red Planet'?\", [\"Earth\", \"Mars\", \"Venus\"], 2)\n",
    "    quiz.add_question(\"What is the largest mammal in the world?\", [\"Elephant\", \"Blue Whale\", \"Giraffe\"], 2)\n",
    "\n",
    "    # Start the quiz\n",
    "    quiz.start_quiz()\n",
    "\n",
    "if __name__ == \"__main__\":\n",
    "    main()\n"
   ]
  },
  {
   "cell_type": "code",
   "execution_count": 10,
   "id": "1ae129f5-a741-46fe-991f-694fcf1b57ef",
   "metadata": {},
   "outputs": [
    {
     "name": "stdin",
     "output_type": "stream",
     "text": [
      "Enter the Year :  2023\n"
     ]
    },
    {
     "name": "stdout",
     "output_type": "stream",
     "text": [
      "Year 2023 is not a Prime Year..\n"
     ]
    }
   ],
   "source": [
    "#Advanced Level:\n",
    "#27. Develop a program that determines whether a given year is a prime number or not.\n",
    "\n",
    "def is_prime_yr(year):\n",
    "    \n",
    "    if year < 2:\n",
    "        return False\n",
    "    if year <= 3:\n",
    "        return True\n",
    "        \n",
    "    if year % 2 == 0 or year % 3 == 3:\n",
    "        return False\n",
    "    \n",
    "    divisor = 5\n",
    "    while divisor**2 <= year:\n",
    "        if year % divisor ==0 or year % (divisor+2) ==0:\n",
    "            return False\n",
    "        divisor += 6\n",
    "    return True    \n",
    "\n",
    "def main():\n",
    "    user_input = int(input(\"Enter the Year : \"))\n",
    "    \n",
    "    if is_prime_yr(user_input):\n",
    "        print(f\"Year {user_input} is Prime Year..\")\n",
    "    else:\n",
    "        print(f\"Year {user_input} is not a Prime Year..\")\n",
    "\n",
    "if __name__ == \"__main__\":\n",
    "    main()\n",
    "    \n",
    "    "
   ]
  },
  {
   "cell_type": "code",
   "execution_count": 14,
   "id": "dd97cce5-00cc-4c68-a3e1-11939127dd22",
   "metadata": {},
   "outputs": [
    {
     "name": "stdin",
     "output_type": "stream",
     "text": [
      "Enter the 1st Number :  78\n",
      "Enter the 2nd Number :  5\n",
      "Enter the 3rd Number :  4\n"
     ]
    },
    {
     "name": "stdout",
     "output_type": "stream",
     "text": [
      "Sorted List : [4, 5, 78]\n"
     ]
    }
   ],
   "source": [
    "#Advanced Level:\n",
    "#28. Create a program that sorts three numbers in ascending order using conditional statements.\n",
    "\n",
    "def main():\n",
    "    \n",
    "    num1 = int(input(\"Enter the 1st Number : \"))\n",
    "    num2 = int(input(\"Enter the 2nd Number : \"))\n",
    "    num3 = int(input(\"Enter the 3rd Number : \"))\n",
    "    \n",
    "    one = 0\n",
    "    two = 0\n",
    "    thr = 0\n",
    "    \n",
    "    sorted_lst = []\n",
    "    \n",
    "    if num1 > num2 and num1 > num3:\n",
    "        sorted_lst.append(num1)\n",
    "        if num2 > num3:\n",
    "            sorted_lst.insert(0,num2)\n",
    "            sorted_lst.insert(0,num3)\n",
    "        elif num2 < num3:\n",
    "            sorted_lst.insert(0,num3)\n",
    "            sorted_lst.insert(0,num2)\n",
    "        else:\n",
    "            sorted_lst.insert(0,num3)\n",
    "            sorted_lst.insert(0,num2)\n",
    "            \n",
    "    elif num2 > num1 and num2 > num3:\n",
    "        sorted_lst.append(num2)\n",
    "        if num1 > num3:\n",
    "            sorted_lst.insert(0,num1)\n",
    "            sorted_lst.insert(0,num3)\n",
    "        elif num1 < num3:\n",
    "            sorted_lst.insert(0,num3)\n",
    "            sorted_lst.insert(0,num1)\n",
    "        else:\n",
    "            sorted_lst.insert(0,num3)\n",
    "            sorted_lst.insert(0,num1)\n",
    "            \n",
    "    elif num3 > num1 and num3 > num2:\n",
    "        sorted_lst.append(num3)\n",
    "        if num1 > num2:\n",
    "            sorted_lst.insert(0,num1)\n",
    "            sorted_lst.insert(0,num2)\n",
    "        elif num1 < num2:\n",
    "            sorted_lst.insert(0,num2)\n",
    "            sorted_lst[0] = num1\n",
    "        else:\n",
    "            sorted_lst.insert(0,num2)\n",
    "            sorted_lst.insert(0,num1)\n",
    "            \n",
    "    else:\n",
    "        sorted_lst = [num1,num2,num3]\n",
    "        print(\"All are equals..\")\n",
    "        \n",
    "        \n",
    "    print(f\"Sorted List : {sorted_lst}\")    \n",
    "        \n",
    "if __name__ == \"__main__\":\n",
    "    main()   \n"
   ]
  },
  {
   "cell_type": "code",
   "execution_count": 3,
   "id": "29e4f52b-c7a3-42ba-bca9-a2c79078308f",
   "metadata": {},
   "outputs": [
    {
     "name": "stdout",
     "output_type": "stream",
     "text": [
      "Approximate root: 2.618033895831364\n"
     ]
    }
   ],
   "source": [
    "#Advanced Level:\n",
    "#29. Build a program that determines the roots of a quartic equation using numerical methods.\n",
    "\n",
    "\n",
    "def quartic_function(x, coefficients):\n",
    "    \n",
    "    a, b, c, d, e = coefficients\n",
    "    return a * x**4 + b * x**3 + c * x**2 + d * x + e\n",
    "\n",
    "def quartic_derivative(x, coefficients):\n",
    "    \n",
    "    a, b, c, d, _ = coefficients\n",
    "    return 4 * a * x**3 + 3 * b * x**2 + 2 * c * x + d\n",
    "\n",
    "def find_quartic_root(coefficients, initial_guess, tolerance=1e-6, max_iterations=100):\n",
    "    \n",
    "    x = initial_guess\n",
    "    for _ in range(max_iterations):\n",
    "        f_x = quartic_function(x, coefficients)\n",
    "        f_prime_x = quartic_derivative(x, coefficients)\n",
    "\n",
    "        if abs(f_prime_x) < tolerance:\n",
    "            break\n",
    "\n",
    "        x = x - f_x / f_prime_x\n",
    "\n",
    "    return x\n",
    "\n",
    "\n",
    "def main():\n",
    "    coefficients = [1, -6, 11, -6, 1]  # Example coefficients for (x-1)^4 = 0\n",
    "    initial_guess = 2.0\n",
    "    # Find the root\n",
    "    root = find_quartic_root(coefficients, initial_guess)\n",
    "\n",
    "    print(f\"Approximate root: {root}\")\n",
    "\n",
    "\n",
    "# Example usage:\n",
    "if __name__ == \"__main__\":\n",
    "    main()\n"
   ]
  },
  {
   "cell_type": "code",
   "execution_count": 30,
   "id": "fab948e7-f338-4836-85d2-2797b12acdca",
   "metadata": {},
   "outputs": [
    {
     "name": "stdin",
     "output_type": "stream",
     "text": [
      "Enter your Height in cm :  150\n",
      "Enter you Weight :  60\n"
     ]
    },
    {
     "name": "stdout",
     "output_type": "stream",
     "text": [
      "26.67\n",
      "Your BMI is 26.67 and you comes under Over Weight.\n",
      "So, You can try to loose weight to reach at Healthy BMI...\n"
     ]
    }
   ],
   "source": [
    "#Advanced Level:\n",
    "#30. Write a program that calculates the BMI (Body Mass Index) and provides health recommendations based \n",
    "#    on the user's input\n",
    "\n",
    "def calc_bmi(height,weight):\n",
    "    hei_meters = height/100\n",
    "    bmi = weight/(hei_meters * hei_meters)\n",
    "    return bmi\n",
    "\n",
    "def main():\n",
    "    height = float(input(\"Enter your Height in cm : \"))\n",
    "    weight = float(input(\"Enter you Weight : \"))\n",
    "    bmi = calc_bmi(height,weight)\n",
    "    formatted_bmi = float(\"{:.2f}\".format(bmi))\n",
    "    print(formatted_bmi)\n",
    "    \n",
    "    if formatted_bmi < 19:\n",
    "        category = \"Underweight\"\n",
    "        print(f\"Your BMI is {bmi:.2f} and you comes under {category}.\\nSo, You can try to gain weight to reach at Healthy BMI...\")\n",
    "    elif formatted_bmi < 25:\n",
    "        category = \"Normal Weight\"\n",
    "        print(f\"Your BMI is {bmi:.2f} and you comes under {category}.\\nSo, You at Healthy stage Try to keep in this stage...\")\n",
    "    elif formatted_bmi <= 30:\n",
    "        category = \"Over Weight\"\n",
    "        print(f\"Your BMI is {bmi:.2f} and you comes under {category}.\\nSo, You can try to loose weight to reach at Healthy BMI...\")\n",
    "        \n",
    "    else:\n",
    "        category = \"Obese\"\n",
    "        print(f\"Your BMI is {bmi:.2f} and you comes under {category}.\\nSo, It is essential to consult a healthcare professional for a personalized weight management plan.\")\n",
    "        \n",
    "        \n",
    "if __name__ == \"__main__\":\n",
    "    main()\n",
    "    "
   ]
  },
  {
   "cell_type": "code",
   "execution_count": 32,
   "id": "560cba3c-c5f4-491e-9d8f-411d351d2dc1",
   "metadata": {},
   "outputs": [
    {
     "name": "stdout",
     "output_type": "stream",
     "text": [
      "\n",
      "Password Strength Checker Programme\n",
      "====================================\n"
     ]
    },
    {
     "name": "stdin",
     "output_type": "stream",
     "text": [
      "Enter the password :  PW-skill@2023\n"
     ]
    },
    {
     "name": "stdout",
     "output_type": "stream",
     "text": [
      "'PW-skill@2023' is a Valid strong password.\n"
     ]
    }
   ],
   "source": [
    "#Challenge Level:\n",
    "#31. Create a program that validates a password based on complexity rules (length, characters, etc.).\n",
    "\n",
    "import re\n",
    "def ValidatePassword(password):\n",
    "\n",
    "    if len(password) < 8:\n",
    "        return False\n",
    "    elif not re.search(r'[A-Z]',password):\n",
    "        return False\n",
    "    elif not re.search(r'[a-z]',password):\n",
    "        return False\n",
    "    elif not re.search(r'\\d',password):\n",
    "        return False\n",
    "    elif not re.search(r'[!@#$%^&*(),.?\":{}|<>]',password):\n",
    "        return False\n",
    "    else:\n",
    "        return True\n",
    "    \n",
    "def main():\n",
    "\n",
    "    print(\"\\nPassword Strength Checker Programme\\n====================================\")\n",
    "    password = input(\"Enter the password : \")\n",
    "        \n",
    "    if ValidatePassword(password):\n",
    "        print(f\"'{password}' is a Valid strong password.\")\n",
    "    else:\n",
    "        print(f\"'{password}' does not meet the requirements of valid strong password.\")\n",
    "            \n",
    "        \n",
    "if __name__ == '__main__':\n",
    "    main()           "
   ]
  },
  {
   "cell_type": "code",
   "execution_count": null,
   "id": "6b00316d-d486-484e-8fd0-706a45462a76",
   "metadata": {},
   "outputs": [
    {
     "name": "stdout",
     "output_type": "stream",
     "text": [
      "Matrix Addition & Substraction Programme.\n",
      "====================================\n",
      "Length of rows and coulumns of both Matrix should be same.....\n",
      "\n"
     ]
    },
    {
     "name": "stdin",
     "output_type": "stream",
     "text": [
      "Enter the number of Rows :  3\n",
      "Enter the Number of Colums :  3\n"
     ]
    },
    {
     "name": "stdout",
     "output_type": "stream",
     "text": [
      "\n",
      "Enter the values of First Matrix..\n",
      "Enter the Values Row by Row..\n"
     ]
    },
    {
     "name": "stdin",
     "output_type": "stream",
     "text": [
      "Enter the value for position row-1 and column-1 :  1\n",
      "Enter the value for position row-1 and column-2 :  2\n",
      "Enter the value for position row-1 and column-3 :  3\n",
      "Enter the value for position row-2 and column-1 :  4\n",
      "Enter the value for position row-2 and column-2 :  5\n",
      "Enter the value for position row-2 and column-3 :  6\n",
      "Enter the value for position row-3 and column-1 :  7\n",
      "Enter the value for position row-3 and column-2 :  8\n",
      "Enter the value for position row-3 and column-3 :  9\n"
     ]
    },
    {
     "name": "stdout",
     "output_type": "stream",
     "text": [
      "\n",
      "Enter the values of the Second Matrix..\n",
      "Enter the Values Row by Row..\n"
     ]
    },
    {
     "name": "stdin",
     "output_type": "stream",
     "text": [
      "Enter the value for position row-1 and column-1 :  9\n",
      "Enter the value for position row-1 and column-2 :  87\n",
      "Enter the value for position row-1 and column-3 :  7\n",
      "Enter the value for position row-2 and column-1 :  6\n",
      "Enter the value for position row-2 and column-2 :  5\n",
      "Enter the value for position row-2 and column-3 :  4\n",
      "Enter the value for position row-3 and column-1 :  3\n",
      "Enter the value for position row-3 and column-2 :  3\n",
      "Enter the value for position row-3 and column-3 :  2\n"
     ]
    },
    {
     "name": "stdout",
     "output_type": "stream",
     "text": [
      "\n",
      "Matrix 1:\n",
      " [[1, 2, 3], [4, 5, 6], [7, 8, 9]] \n",
      " \n",
      "Matrix 2:\n",
      " [[9, 87, 7], [6, 5, 4], [3, 3, 2]]\n",
      "\n",
      "Addition of Both Matrix...\n",
      "[[10, 89, 10], [10, 10, 10], [10, 11, 11]]\n",
      "\n",
      "Substraction of Both Matrix...\n",
      "[[-8, -85, -4], [-2, 0, 2], [4, 5, 7]]\n"
     ]
    }
   ],
   "source": [
    "#Challenge Level:\n",
    "#32. Develop a program that performs matrix addition and subtraction based on user input.\n",
    "\n",
    "def input_matrix(rows_num,col_num):\n",
    "    print(\"Enter the Values Row by Row..\")\n",
    "    matrix = []\n",
    "    for row in range(1,rows_num+1):\n",
    "        row_lst = []\n",
    "        for col in range(1,col_num+1):\n",
    "            row_lst.append(int(input(f\"Enter the value for position row-{row} and column-{col} : \")))\n",
    "        matrix.append(row_lst)\n",
    "    return matrix\n",
    "\n",
    "def addition(matrix1,matrix2):\n",
    "    result = []\n",
    "    for row in range(len(matrix1)):\n",
    "        rows = []\n",
    "        for col in range(len(matrix1[0])):\n",
    "            rows.append(matrix1[row][col] + matrix2[row][col])\n",
    "        result.append(rows)\n",
    "    return result\n",
    "\n",
    "def substraction(matrix1,matrix2):\n",
    "    result = []\n",
    "    for row in range(len(matrix1)):\n",
    "        rows = []\n",
    "        for col in range(len(matrix1[0])):\n",
    "            rows.append(matrix1[row][col] - matrix2[row][col])\n",
    "        result.append(rows)\n",
    "    return result\n",
    "\n",
    "def main():\n",
    "    print(\"Matrix Addition & Substraction Programme.\\n====================================\")\n",
    "    print(\"Length of rows and coulumns of both Matrix should be same.....\\n\")\n",
    "    \n",
    "    rows_num = int(input(\"Enter the number of Rows : \"))\n",
    "    col_num = int(input(\"Enter the Number of Colums : \"))\n",
    "    \n",
    "    print(\"\\nEnter the values of First Matrix..\")\n",
    "    matrix1 = input_matrix(rows_num,col_num)\n",
    "    \n",
    "    print(\"\\nEnter the values of the Second Matrix..\")\n",
    "    matrix2 = input_matrix(rows_num,col_num)\n",
    "    \n",
    "    print(\"\\nMatrix 1:\\n\",matrix1,\"\\n\",\"\\nMatrix 2:\\n\",matrix2)\n",
    "    print(\"\\nAddition of Both Matrix...\")\n",
    "    print(addition(matrix1,matrix2))\n",
    "    print(\"\\nSubstraction of Both Matrix...\")\n",
    "    print(substraction(matrix1,matrix2))\n",
    "\n",
    "    \n",
    "if __name__ == \"__main__\":\n",
    "    main()    "
   ]
  },
  {
   "cell_type": "code",
   "execution_count": 1,
   "id": "d6477f91-9632-4a02-b67e-f0c1311b58f0",
   "metadata": {},
   "outputs": [
    {
     "name": "stdout",
     "output_type": "stream",
     "text": [
      "Greatest Common Divisor (GCD) Calculator\n"
     ]
    },
    {
     "name": "stdin",
     "output_type": "stream",
     "text": [
      "Enter the first number:  6\n",
      "Enter the second number:  8\n"
     ]
    },
    {
     "name": "stdout",
     "output_type": "stream",
     "text": [
      "a=8 & b=6\n",
      "a=6 & b=2\n",
      "a=2 & b=0\n",
      "The GCD of 6 and 8 is 2\n"
     ]
    }
   ],
   "source": [
    "#Challenge Level:\n",
    "#33. Write a program that calculates the greatest common divisor (GCD) of two numbers using the Euclidean \n",
    "#    algorithm\n",
    "\n",
    "def gcd_euclidean(a, b):\n",
    "    while b:\n",
    "        a, b = b, a % b\n",
    "        print(f\"a={a} & b={b}\")\n",
    "    return a\n",
    "\n",
    "def main():\n",
    "    print(\"Greatest Common Divisor (GCD) Calculator\")\n",
    "    num1 = int(input(\"Enter the first number: \"))\n",
    "    num2 = int(input(\"Enter the second number: \"))\n",
    "    \n",
    "    gcd = gcd_euclidean(num1, num2)\n",
    "    \n",
    "    print(f\"The GCD of {num1} and {num2} is {gcd}\")\n",
    "\n",
    "if __name__ == \"__main__\":\n",
    "    main()\n"
   ]
  },
  {
   "cell_type": "code",
   "execution_count": 1,
   "id": "be4b778c-000a-4cd4-97fe-6855b19828be",
   "metadata": {},
   "outputs": [
    {
     "name": "stdout",
     "output_type": "stream",
     "text": [
      "Matrix Multiplication Programme.\n",
      "====================================\n",
      "Length of rows and coulumns of both Matrix should be same.....\n",
      "\n"
     ]
    },
    {
     "name": "stdin",
     "output_type": "stream",
     "text": [
      "Enter the number of Rows :  3\n",
      "Enter the Number of Colums :  3\n"
     ]
    },
    {
     "name": "stdout",
     "output_type": "stream",
     "text": [
      "\n",
      "Enter the values of First Matrix..\n",
      "Enter the Values Row by Row..\n"
     ]
    },
    {
     "name": "stdin",
     "output_type": "stream",
     "text": [
      "Enter the value for position row-1 and column-1 :  1\n",
      "Enter the value for position row-1 and column-2 :  2\n",
      "Enter the value for position row-1 and column-3 :  3\n",
      "Enter the value for position row-2 and column-1 :  4\n",
      "Enter the value for position row-2 and column-2 :  5\n",
      "Enter the value for position row-2 and column-3 :  6\n",
      "Enter the value for position row-3 and column-1 :  7\n",
      "Enter the value for position row-3 and column-2 :  8\n",
      "Enter the value for position row-3 and column-3 :  9\n"
     ]
    },
    {
     "name": "stdout",
     "output_type": "stream",
     "text": [
      "\n",
      "Enter the values of the Second Matrix..\n",
      "Enter the Values Row by Row..\n"
     ]
    },
    {
     "name": "stdin",
     "output_type": "stream",
     "text": [
      "Enter the value for position row-1 and column-1 :  9\n",
      "Enter the value for position row-1 and column-2 :  8\n",
      "Enter the value for position row-1 and column-3 :  7\n",
      "Enter the value for position row-2 and column-1 :  6\n",
      "Enter the value for position row-2 and column-2 :  5\n",
      "Enter the value for position row-2 and column-3 :  4\n",
      "Enter the value for position row-3 and column-1 :  3\n",
      "Enter the value for position row-3 and column-2 :  2\n",
      "Enter the value for position row-3 and column-3 :  1\n"
     ]
    },
    {
     "name": "stdout",
     "output_type": "stream",
     "text": [
      "\n",
      "Matrix 1:\n",
      " [[1, 2, 3], [4, 5, 6], [7, 8, 9]] \n",
      " \n",
      "Matrix 2:\n",
      " [[9, 8, 7], [6, 5, 4], [3, 2, 1]]\n",
      "\n",
      "Multiplication of Both Matrix...\n",
      "[[30, 24, 18], [84, 69, 54], [138, 114, 90]]\n"
     ]
    }
   ],
   "source": [
    "#Challenge Level:\n",
    "#34. Build a program that performs matrix multiplication using nested loops and conditional statements.\n",
    "\n",
    "def input_matrix(rows_num,col_num):\n",
    "    print(\"Enter the Values Row by Row..\")\n",
    "    matrix = []\n",
    "    for row in range(1,rows_num+1):\n",
    "        row_lst = []\n",
    "        for col in range(1,col_num+1):\n",
    "            row_lst.append(int(input(f\"Enter the value for position row-{row} and column-{col} : \")))\n",
    "        matrix.append(row_lst)\n",
    "    return matrix\n",
    "\n",
    "def multiplication(matrix1, matrix2):\n",
    "    if len(matrix1[0]) != len(matrix2):\n",
    "        print(\"Matrix dimensions are not matching for multiplication.\")\n",
    "        return None\n",
    "\n",
    "    result = []\n",
    "    for i in range(len(matrix1)):\n",
    "        row = []\n",
    "        for j in range(len(matrix2[0])):\n",
    "            element = 0\n",
    "            for k in range(len(matrix2)):\n",
    "                element += matrix1[i][k] * matrix2[k][j]\n",
    "            row.append(element)\n",
    "        result.append(row)\n",
    "    return result\n",
    "\n",
    "\n",
    "def main():\n",
    "    print(\"Matrix Multiplication Programme.\\n====================================\")\n",
    "    print(\"Length of rows and coulumns of both Matrix should be same.....\\n\")\n",
    "    \n",
    "    rows_num = int(input(\"Enter the number of Rows : \"))\n",
    "    col_num = int(input(\"Enter the Number of Colums : \"))\n",
    "    \n",
    "    print(\"\\nEnter the values of First Matrix..\")\n",
    "    matrix1 = input_matrix(rows_num,col_num)\n",
    "    \n",
    "    print(\"\\nEnter the values of the Second Matrix..\")\n",
    "    matrix2 = input_matrix(rows_num,col_num)\n",
    "    \n",
    "    print(\"\\nMatrix 1:\\n\",matrix1,\"\\n\",\"\\nMatrix 2:\\n\",matrix2)\n",
    "    print(\"\\nMultiplication of Both Matrix...\")\n",
    "    print(multiplication(matrix1, matrix2))\n",
    "\n",
    "    \n",
    "if __name__ == \"__main__\":\n",
    "    main()    \n",
    "\n"
   ]
  },
  {
   "cell_type": "code",
   "execution_count": 6,
   "id": "3dad63ca-b938-480a-8081-6e071d7ab590",
   "metadata": {},
   "outputs": [
    {
     "name": "stdout",
     "output_type": "stream",
     "text": [
      "  |   |  \n",
      "---------\n",
      "  |   |  \n",
      "---------\n",
      "  |   |  \n",
      "---------\n"
     ]
    },
    {
     "name": "stdin",
     "output_type": "stream",
     "text": [
      "Enter the row-index (0, 1, 2):  2\n",
      "Enter the column-index (0, 1, 2):  2\n"
     ]
    },
    {
     "name": "stdout",
     "output_type": "stream",
     "text": [
      "  |   |  \n",
      "---------\n",
      "  |   |  \n",
      "---------\n",
      "  |   | X\n",
      "---------\n",
      "Computer is making a move...\n",
      "  |   |  \n",
      "---------\n",
      "  | O |  \n",
      "---------\n",
      "  |   | X\n",
      "---------\n"
     ]
    },
    {
     "name": "stdin",
     "output_type": "stream",
     "text": [
      "Enter the row-index (0, 1, 2):  1\n",
      "Enter the column-index (0, 1, 2):  2\n"
     ]
    },
    {
     "name": "stdout",
     "output_type": "stream",
     "text": [
      "  |   |  \n",
      "---------\n",
      "  | O | X\n",
      "---------\n",
      "  |   | X\n",
      "---------\n",
      "Computer is making a move...\n",
      "  |   | O\n",
      "---------\n",
      "  | O | X\n",
      "---------\n",
      "  |   | X\n",
      "---------\n"
     ]
    },
    {
     "name": "stdin",
     "output_type": "stream",
     "text": [
      "Enter the row-index (0, 1, 2):  2\n",
      "Enter the column-index (0, 1, 2):  0\n"
     ]
    },
    {
     "name": "stdout",
     "output_type": "stream",
     "text": [
      "  |   | O\n",
      "---------\n",
      "  | O | X\n",
      "---------\n",
      "X |   | X\n",
      "---------\n",
      "Computer is making a move...\n",
      "  |   | O\n",
      "---------\n",
      "O | O | X\n",
      "---------\n",
      "X |   | X\n",
      "---------\n"
     ]
    },
    {
     "name": "stdin",
     "output_type": "stream",
     "text": [
      "Enter the row-index (0, 1, 2):  0\n",
      "Enter the column-index (0, 1, 2):  0\n"
     ]
    },
    {
     "name": "stdout",
     "output_type": "stream",
     "text": [
      "X |   | O\n",
      "---------\n",
      "O | O | X\n",
      "---------\n",
      "X |   | X\n",
      "---------\n",
      "Computer is making a move...\n",
      "X |   | O\n",
      "---------\n",
      "O | O | X\n",
      "---------\n",
      "X | O | X\n",
      "---------\n"
     ]
    },
    {
     "name": "stdin",
     "output_type": "stream",
     "text": [
      "Enter the row-index (0, 1, 2):  0\n",
      "Enter the column-index (0, 1, 2):  1\n"
     ]
    },
    {
     "name": "stdout",
     "output_type": "stream",
     "text": [
      "X | X | O\n",
      "---------\n",
      "O | O | X\n",
      "---------\n",
      "X | O | X\n",
      "---------\n",
      "It's a tie!\n"
     ]
    }
   ],
   "source": [
    "#Challenge Level:\n",
    "#35. Create a program that simulates a basic text-based tic-tac-toe game against the computer.\n",
    "\n",
    "\n",
    "import random\n",
    "\n",
    "def print_board(board_lst):\n",
    "    for row in board_lst:\n",
    "        print(\" | \".join(row))\n",
    "        print(\"-\" * 9)\n",
    "\n",
    "def computer(board_lst):\n",
    "    while True:\n",
    "        row = random.randint(0, 2)\n",
    "        column = random.randint(0, 2)\n",
    "        if board_lst[row][column] == \" \":\n",
    "            return row, column\n",
    "\n",
    "def winner(board_lst, player):\n",
    "    for row in board_lst:\n",
    "        if all(cell == player for cell in row):\n",
    "            return True\n",
    "\n",
    "    for col in range(3):\n",
    "        if all(board_lst[row][col] == player for row in range(3)):\n",
    "            return True\n",
    "\n",
    "    if all(board_lst[i][i] == player for i in range(3)) or all(board_lst[i][2 - i] == player for i in range(3)):\n",
    "        return True\n",
    "\n",
    "    return False\n",
    "\n",
    "def is_full(board_lst):\n",
    "    return all(cell != ' ' for row in board_lst for cell in row)\n",
    "\n",
    "def main():\n",
    "    board_lst = [[\" \" for i in range(3)] for j in range(3)]\n",
    "    print_board(board_lst)\n",
    "\n",
    "    player = \"X\"\n",
    "    while True:\n",
    "        if player == \"X\":\n",
    "            row = int(input(f\"Enter the row-index (0, 1, 2): \"))\n",
    "            column = int(input(f\"Enter the column-index (0, 1, 2): \"))\n",
    "            if board_lst[row][column] == \" \":\n",
    "                board_lst[row][column] = player\n",
    "                print_board(board_lst)\n",
    "            else:\n",
    "                print(f\"Place {row}, {column} is already occupied. Try again with a different place.\")\n",
    "                continue\n",
    "        else:\n",
    "            print(\"Computer is making a move...\")\n",
    "            row, column = computer(board_lst)\n",
    "            board_lst[row][column] = player\n",
    "            print_board(board_lst)\n",
    "\n",
    "        if winner(board_lst, player):\n",
    "            print_board(board_lst)\n",
    "            if player == 'X':\n",
    "                print(\"You (X) win!\")\n",
    "            else:\n",
    "                print(\"Computer (O) wins!\")\n",
    "            break\n",
    "\n",
    "        if is_full(board_lst):\n",
    "            print(\"It's a tie!\")\n",
    "            break\n",
    "        \n",
    "        player = 'O' if player == 'X' else 'X'\n",
    "\n",
    "if __name__ == \"__main__\":\n",
    "    main()\n"
   ]
  },
  {
   "cell_type": "code",
   "execution_count": 16,
   "id": "9dbdd6cc-17da-4fe6-8307-49d0cccc5316",
   "metadata": {},
   "outputs": [
    {
     "name": "stdin",
     "output_type": "stream",
     "text": [
      "Enter the Number :  5\n"
     ]
    },
    {
     "name": "stdout",
     "output_type": "stream",
     "text": [
      "[0, 1, 1, 2, 3, 5]\n"
     ]
    }
   ],
   "source": [
    "#Challenge Level:\n",
    "#36. Write a program that generates Fibonacci numbers up to a specified term using iterative methods.\n",
    "\n",
    "def fibonacci(num):\n",
    "    fibonacci = []\n",
    "    count = 0\n",
    "    while len(fibonacci) == 0 or fibonacci[-1] < num:\n",
    "        if count <= 1:\n",
    "            fibonacci.append(count)\n",
    "        else:\n",
    "            nexnum = fibonacci[-1] + fibonacci[-2]\n",
    "            fibonacci.append(nexnum)\n",
    "        count += 1 \n",
    "    return fibonacci\n",
    "\n",
    "def main():\n",
    "    num = int(input(\"Enter the Number : \"))\n",
    "    print(fibonacci(num))\n",
    "\n",
    "\n",
    "if __name__ == \"__main__\":\n",
    "    main()\n"
   ]
  },
  {
   "cell_type": "code",
   "execution_count": 29,
   "id": "f096c1bb-fa12-4732-b7bf-9f946a62cc0c",
   "metadata": {},
   "outputs": [
    {
     "name": "stdin",
     "output_type": "stream",
     "text": [
      "Enter the Number :  5\n"
     ]
    },
    {
     "name": "stdout",
     "output_type": "stream",
     "text": [
      "{0: 0, 1: 1, 2: 1, 3: 2, 4: 3, 5: 5}\n",
      "The 5-th term is =  5\n"
     ]
    }
   ],
   "source": [
    "#Challenge Level:\n",
    "#37. Develop a program that calculates the nth term of the Fibonacci sequence using memoization.\n",
    "\n",
    "def fibonacci_term(num):\n",
    "    fibonaccidict = {}\n",
    "    count = 0\n",
    "    while len(fibonaccidict) <= num:\n",
    "        if count <= 1:\n",
    "            fibonaccidict[count] = count\n",
    "        else:\n",
    "            \n",
    "            fibonaccidict[count] = fibonaccidict[count-1] + fibonaccidict[count-2]\n",
    "        count += 1\n",
    "    print(fibonaccidict)\n",
    "    return fibonaccidict[num]\n",
    "\n",
    "def main():\n",
    "    num = int(input(\"Enter the Number : \"))\n",
    "    print(f\"The {num}-th term is = \",fibonacci_term(num))\n",
    "\n",
    "\n",
    "if __name__ == \"__main__\":\n",
    "    main()\n"
   ]
  },
  {
   "cell_type": "code",
   "execution_count": 32,
   "id": "a33b7b39-2a9b-4ab1-9701-085b1eb3df29",
   "metadata": {},
   "outputs": [
    {
     "name": "stdin",
     "output_type": "stream",
     "text": [
      "Enter the year:  1998\n",
      "Enter the month (1-12):  8\n"
     ]
    },
    {
     "name": "stdout",
     "output_type": "stream",
     "text": [
      "Calendar for August 1998:\n",
      "\n",
      "    August 1998\n",
      "Mo Tu We Th Fr Sa Su\n",
      "                1  2\n",
      " 3  4  5  6  7  8  9\n",
      "10 11 12 13 14 15 16\n",
      "17 18 19 20 21 22 23\n",
      "24 25 26 27 28 29 30\n",
      "31\n",
      "\n"
     ]
    }
   ],
   "source": [
    "#Challenge Level:\n",
    "#38. Create a program that generates a calendar for a given month and year using conditional statements.\n",
    "\n",
    "import calendar\n",
    "\n",
    "\n",
    "def main():\n",
    "\n",
    "    year = int(input(\"Enter the year: \"))\n",
    "    month = int(input(\"Enter the month (1-12): \"))\n",
    "\n",
    "    \n",
    "    if month < 1 or month > 12:\n",
    "        print(\"Invalid month input. Please enter a month between 1 and 12.\")\n",
    "    else:\n",
    "        \n",
    "        cal = calendar.month(year, month)\n",
    "\n",
    "        \n",
    "        print(f\"Calendar for {calendar.month_name[month]} {year}:\\n\")\n",
    "        print(cal)\n",
    "\n",
    "        \n",
    "if __name__ == \"__main__\":\n",
    "    main()\n"
   ]
  },
  {
   "cell_type": "code",
   "execution_count": 35,
   "id": "8a4822ad-8b98-4f09-837c-4dedde5e173a",
   "metadata": {},
   "outputs": [
    {
     "name": "stdout",
     "output_type": "stream",
     "text": [
      "Your hand: [('Four', 'Diamonds'), ('Jack', 'Clubs')]  (Value: 14 )\n",
      "Dealer's hand: [('Ten', 'Clubs'), 'X']  (Value: 10 )\n",
      "\n"
     ]
    },
    {
     "name": "stdin",
     "output_type": "stream",
     "text": [
      "Do you want to hit or stand?  git\n",
      "Do you want to hit or stand?  hit\n"
     ]
    },
    {
     "name": "stdout",
     "output_type": "stream",
     "text": [
      "Your hand: [('Four', 'Diamonds'), ('Jack', 'Clubs'), ('Four', 'Clubs')]  (Value: 18 )\n",
      "Dealer's hand: [('Ten', 'Clubs'), 'X']  (Value: 10 )\n",
      "\n"
     ]
    },
    {
     "name": "stdin",
     "output_type": "stream",
     "text": [
      "Do you want to hit or stand?  stand\n"
     ]
    },
    {
     "name": "stdout",
     "output_type": "stream",
     "text": [
      "Your hand: [('Four', 'Diamonds'), ('Jack', 'Clubs'), ('Four', 'Clubs')]  (Value: 18 )\n",
      "Dealer's hand: [('Ten', 'Clubs'), 'X']  (Value: 10 )\n",
      "\n",
      "Congratulations! You win!\n"
     ]
    }
   ],
   "source": [
    "#Challenge Level:\n",
    "#39. Build a program that simulates a basic text-based blackjack game against the computer.\n",
    "\n",
    "\n",
    "import random\n",
    "\n",
    "def main():\n",
    "    \n",
    "    suits = ['Hearts', 'Diamonds', 'Clubs', 'Spades']\n",
    "    ranks = ['Two', 'Three', 'Four', 'Five', 'Six', 'Seven', 'Eight', 'Nine', 'Ten', 'Jack', 'Queen', 'King', 'Ace']\n",
    "    deck = [(rank, suit) for rank in ranks for suit in suits]\n",
    "    random.shuffle(deck)\n",
    "\n",
    "    \n",
    "    player_hand = [deck.pop(), deck.pop()]\n",
    "    dealer_hand = [deck.pop(), deck.pop()]\n",
    "\n",
    "    \n",
    "    def hand_value(hand):\n",
    "        values = {'Two': 2, 'Three': 3, 'Four': 4, 'Five': 5, 'Six': 6, 'Seven': 7, 'Eight': 8, 'Nine': 9, 'Ten': 10,\n",
    "                  'Jack': 10, 'Queen': 10, 'King': 10, 'Ace': 11}\n",
    "        value = sum(values[card[0]] for card in hand)\n",
    "        for card in hand:\n",
    "            if card[0] == 'Ace' and value > 21:\n",
    "                value -= 10\n",
    "        return value\n",
    "\n",
    "    # Function to display the hands\n",
    "    def display_hands():\n",
    "        print(\"Your hand:\", player_hand, \" (Value:\", hand_value(player_hand), \")\")\n",
    "        print(\"Dealer's hand:\", [dealer_hand[0], 'X'], \" (Value:\", hand_value([dealer_hand[0]]), \")\\n\")\n",
    "\n",
    "    # Initial display\n",
    "    display_hands()\n",
    "\n",
    "    # Player's turn\n",
    "    while hand_value(player_hand) < 21:\n",
    "        action = input(\"Do you want to hit or stand? \").lower()\n",
    "        if action == 'hit':\n",
    "            player_hand.append(deck.pop())\n",
    "            display_hands()\n",
    "        elif action == 'stand':\n",
    "            break\n",
    "\n",
    "    # Dealer's turn\n",
    "    while hand_value(dealer_hand) < 17:\n",
    "        dealer_hand.append(deck.pop())\n",
    "\n",
    "    # Final display\n",
    "    display_hands()\n",
    "\n",
    "    \n",
    "    if hand_value(player_hand) > 21:\n",
    "        print(\"You busted! Dealer wins.\")\n",
    "    elif hand_value(dealer_hand) > 21 or hand_value(player_hand) > hand_value(dealer_hand):\n",
    "        print(\"Congratulations! You win!\")\n",
    "    elif hand_value(player_hand) == hand_value(dealer_hand):\n",
    "        print(\"It's a tie!\")\n",
    "    else:\n",
    "        print(\"Dealer wins!\")\n",
    "\n",
    "if __name__ == \"__main__\":\n",
    "    main()\n",
    "        \n",
    "\n",
    "        \n",
    "        \n",
    "        \n",
    "        "
   ]
  },
  {
   "cell_type": "code",
   "execution_count": 33,
   "id": "97db0926-d449-4785-be8e-57ab9fbaf82a",
   "metadata": {},
   "outputs": [
    {
     "name": "stdin",
     "output_type": "stream",
     "text": [
      "Enter a positive integer:  6\n"
     ]
    },
    {
     "name": "stdout",
     "output_type": "stream",
     "text": [
      "The prime factors of 6 are: [2, 3]\n"
     ]
    }
   ],
   "source": [
    "#Challenge Level:\n",
    "#40. Write a program that generates the prime factors of a given number using trial division.\n",
    "\n",
    "def prime_factors(n):\n",
    "    factors = []\n",
    "    divisor = 2\n",
    "\n",
    "    while n > 1:\n",
    "        while n % divisor == 0:\n",
    "            factors.append(divisor)\n",
    "            n //= divisor\n",
    "        divisor += 1\n",
    "\n",
    "    return factors\n",
    "\n",
    "def main():\n",
    "    try:\n",
    "        num = int(input(\"Enter a positive integer: \"))\n",
    "        if num <= 0:\n",
    "            print(\"Please enter a positive integer.\")\n",
    "        else:\n",
    "            factors = prime_factors(num)\n",
    "            if len(factors) == 0:\n",
    "                print(f\"{num} has no prime factors.\")\n",
    "            else:\n",
    "                print(f\"The prime factors of {num} are: {factors}\")\n",
    "                \n",
    "    except ValueError:\n",
    "        print(\"Invalid input. Please enter a valid positive integer.\")\n",
    "        \n",
    "        \n",
    "if __name__ == \"__main__\":\n",
    "    main()\n",
    "      \n",
    "        \n"
   ]
  },
  {
   "cell_type": "code",
   "execution_count": null,
   "id": "f94f2981-60a4-4a6a-9d29-d3e0e7c6f232",
   "metadata": {},
   "outputs": [],
   "source": []
  }
 ],
 "metadata": {
  "kernelspec": {
   "display_name": "Python 3 (ipykernel)",
   "language": "python",
   "name": "python3"
  },
  "language_info": {
   "codemirror_mode": {
    "name": "ipython",
    "version": 3
   },
   "file_extension": ".py",
   "mimetype": "text/x-python",
   "name": "python",
   "nbconvert_exporter": "python",
   "pygments_lexer": "ipython3",
   "version": "3.10.8"
  }
 },
 "nbformat": 4,
 "nbformat_minor": 5
}
